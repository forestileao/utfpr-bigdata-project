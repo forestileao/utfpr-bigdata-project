{
 "cells": [
  {
   "cell_type": "code",
   "execution_count": 2,
   "id": "78a3e5c1",
   "metadata": {},
   "outputs": [],
   "source": [
    "from pyspark.sql import SparkSession\n",
    "from pyspark.sql.functions import col, when, mean, stddev"
   ]
  },
  {
   "cell_type": "code",
   "execution_count": 3,
   "id": "93d0f80d",
   "metadata": {},
   "outputs": [
    {
     "name": "stderr",
     "output_type": "stream",
     "text": [
      "Setting default log level to \"WARN\".\n",
      "To adjust logging level use sc.setLogLevel(newLevel). For SparkR, use setLogLevel(newLevel).\n",
      "24/05/26 23:22:36 WARN NativeCodeLoader: Unable to load native-hadoop library for your platform... using builtin-java classes where applicable\n"
     ]
    }
   ],
   "source": [
    "MAX_MEMORY = \"5g\"\n",
    "\n",
    "spark = SparkSession \\\n",
    "    .builder \\\n",
    "    .appName(\"Projeto 1 BigData\") \\\n",
    "    .config(\"spark.executor.memory\", MAX_MEMORY) \\\n",
    "    .config(\"spark.driver.memory\", MAX_MEMORY) \\\n",
    "    .getOrCreate()"
   ]
  },
  {
   "cell_type": "code",
   "execution_count": 4,
   "id": "cadb4841",
   "metadata": {},
   "outputs": [
    {
     "name": "stderr",
     "output_type": "stream",
     "text": [
      "\r",
      "[Stage 0:>                                                          (0 + 1) / 1]\r",
      "\r",
      "                                                                                \r"
     ]
    }
   ],
   "source": [
    "raw_df = spark.read.csv(\"./dados_caged_2022.csv\", header=True, sep=\",\")"
   ]
  },
  {
   "cell_type": "code",
   "execution_count": 5,
   "id": "74196a4e",
   "metadata": {},
   "outputs": [
    {
     "name": "stdout",
     "output_type": "stream",
     "text": [
      "+----+---+---+------------+------------+----------------+------------------+--------+---------+-----------------+-----+-----------------+--------+----+---------------+--------------------+-----------------+----------------+-------------------------------+--------------------------+--------------+-------------------------------+------------------+-----------------+--------------------+\n",
      "| ano|mes| uf|id_municipio|cnae_2_secao|cnae_2_subclasse|saldo_movimentacao|cbo_2002|categoria|grau_de_instrucao|idade|horas_contratuais|raca_cor|sexo|tipo_empregador|tipo_estabelecimento|tipo_movimentacao|tipo_deficiencia|indicador_trabalho_intermitente|indicador_trabalho_parcial|salario_mensal|tamanho_estabelecimento_janeiro|indicador_aprendiz|origem_informacao|indicador_fora_prazo|\n",
      "+----+---+---+------------+------------+----------------+------------------+--------+---------+-----------------+-----+-----------------+--------+----+---------------+--------------------+-----------------+----------------+-------------------------------+--------------------------+--------------+-------------------------------+------------------+-----------------+--------------------+\n",
      "|2023|  4| SP|     3550308|           H|         4930202|                -1|  841456|      101|                6|   37|             44.0|       1|   1|              0|                   1|               31|               0|                              0|                         0|       2060.89|                              6|                 0|                1|                   0|\n",
      "|2023|  4| SP|     3525904|           H|         4930202|                -1|  414215|      101|                7|   28|             44.0|       2|   1|              0|                   1|               31|               0|                              0|                         0|       2428.16|                             10|                 0|                1|                   0|\n",
      "|2023|  4| SP|     3534401|           H|         4930202|                -1|  414140|      101|                7|   24|             44.0|       2|   1|              0|                   1|               31|               0|                              0|                         0|        1898.0|                             10|                 0|                1|                   0|\n",
      "|2023|  4| SP|     3504008|           H|         4930202|                -1|  414140|      101|                7|   27|             44.0|       1|   1|              0|                   1|               31|               0|                              0|                         0|       2361.87|                              5|                 0|                1|                   0|\n",
      "|2023|  4| SP|     3548708|           H|         4930202|                -1|  783215|      101|                7|   28|             44.0|       1|   1|              0|                   1|               31|               0|                              0|                         0|        1490.7|                              7|                 0|                1|                   0|\n",
      "+----+---+---+------------+------------+----------------+------------------+--------+---------+-----------------+-----+-----------------+--------+----+---------------+--------------------+-----------------+----------------+-------------------------------+--------------------------+--------------+-------------------------------+------------------+-----------------+--------------------+\n",
      "only showing top 5 rows\n",
      "\n"
     ]
    }
   ],
   "source": [
    "raw_df.show(5)"
   ]
  },
  {
   "cell_type": "markdown",
   "id": "7910ec97",
   "metadata": {},
   "source": [
    "# Parsing Data"
   ]
  },
  {
   "cell_type": "code",
   "execution_count": 6,
   "id": "aa407b50",
   "metadata": {},
   "outputs": [],
   "source": [
    "# Definindo os mapas de parsing\n",
    "sexo_parse_map = {'1': 'HOMEM', '3': 'MULHER', '9': 'NAO_IDENTIFICADO'}\n",
    "tipo_empregador_parse_map = {'0': 'CNPJ', '2': 'CPF', '9': 'NAO_IDENTIFICADO'}\n",
    "saldo_mov_parse_map = {'1': 'ADMITIDO', '-1': 'DEMITIDO'}\n",
    "\n",
    "# Função para aplicar parsing nos DataFrames\n",
    "def parse_dataframe(df):\n",
    "    df = df.drop('id_municipio', 'cbo_2002', 'categoria', 'raca_cor', 'tipo_movimentacao', \n",
    "                 'tipo_deficiencia', 'indicador_trabalho_intermitente', 'indicador_trabalho_parcial', \n",
    "                 'tamanho_estabelecimento_janeiro', 'indicador_aprendiz', 'origem_informacao', \n",
    "                 'indicador_fora_prazo', 'tipo_estabelecimento')\n",
    "\n",
    "    df = df.withColumn('sexo', when(col('sexo') == '1', 'HOMEM')\n",
    "                                .when(col('sexo') == '3', 'MULHER')\n",
    "                                .when(col('sexo') == '9', 'NAO_IDENTIFICADO'))\n",
    "    \n",
    "    df = df.withColumn('tipo_empregador', when(col('tipo_empregador') == '0', 'CNPJ')\n",
    "                                         .when(col('tipo_empregador') == '2', 'CPF')\n",
    "                                         .when(col('tipo_empregador') == '9', 'NAO_IDENTIFICADO'))\n",
    "\n",
    "    df = df.withColumn('saldo_movimentacao', when(col('saldo_movimentacao') == '1', 'ADMITIDO')\n",
    "                                             .when(col('saldo_movimentacao') == '-1', 'DEMITIDO'))\n",
    "\n",
    "    return df\n",
    "\n",
    "# Definindo o arquivo de entrada e saída\n",
    "output_filename = './dados_caged_2022_parsed.csv'\n",
    "\n",
    "# Aplicando a função de parsing\n",
    "parsed_df = parse_dataframe(raw_df)"
   ]
  },
  {
   "cell_type": "code",
   "execution_count": 7,
   "id": "5db5c702",
   "metadata": {},
   "outputs": [
    {
     "name": "stdout",
     "output_type": "stream",
     "text": [
      "+----+---+---+------------+----------------+------------------+-----------------+-----+-----------------+-----+---------------+--------------+\n",
      "| ano|mes| uf|cnae_2_secao|cnae_2_subclasse|saldo_movimentacao|grau_de_instrucao|idade|horas_contratuais| sexo|tipo_empregador|salario_mensal|\n",
      "+----+---+---+------------+----------------+------------------+-----------------+-----+-----------------+-----+---------------+--------------+\n",
      "|2023|  4| SP|           H|         4930202|          DEMITIDO|                6|   37|             44.0|HOMEM|           CNPJ|       2060.89|\n",
      "|2023|  4| SP|           H|         4930202|          DEMITIDO|                7|   28|             44.0|HOMEM|           CNPJ|       2428.16|\n",
      "|2023|  4| SP|           H|         4930202|          DEMITIDO|                7|   24|             44.0|HOMEM|           CNPJ|        1898.0|\n",
      "|2023|  4| SP|           H|         4930202|          DEMITIDO|                7|   27|             44.0|HOMEM|           CNPJ|       2361.87|\n",
      "|2023|  4| SP|           H|         4930202|          DEMITIDO|                7|   28|             44.0|HOMEM|           CNPJ|        1490.7|\n",
      "+----+---+---+------------+----------------+------------------+-----------------+-----+-----------------+-----+---------------+--------------+\n",
      "only showing top 5 rows\n",
      "\n"
     ]
    }
   ],
   "source": [
    "parsed_df.show(5)"
   ]
  },
  {
   "cell_type": "markdown",
   "id": "b2529656",
   "metadata": {},
   "source": [
    "# Removing Outliers"
   ]
  },
  {
   "cell_type": "code",
   "execution_count": 8,
   "id": "751f6136",
   "metadata": {},
   "outputs": [
    {
     "name": "stderr",
     "output_type": "stream",
     "text": [
      "                                                                                \r"
     ]
    }
   ],
   "source": [
    "# Função para calcular Z-score e remover outliers\n",
    "def remove_outliers(df, column):\n",
    "    # Calculando a média e desvio padrão\n",
    "    stats = df.select(mean(col(column)).alias('mean'), stddev(col(column)).alias('stddev')).collect()[0]\n",
    "    mean_value = stats['mean']\n",
    "    stddev_value = stats['stddev']\n",
    "\n",
    "    # Adicionando a coluna z_score\n",
    "    df = df.withColumn('z_' + column, (col(column) - mean_value) / stddev_value)\n",
    "\n",
    "    # Filtrando os outliers\n",
    "    df = df.filter((col('z_' + column) <= 3) | col(column).isNull())\n",
    "\n",
    "    return df\n",
    "\n",
    "parsed_df = remove_outliers(parsed_df, 'salario_mensal')"
   ]
  },
  {
   "cell_type": "code",
   "execution_count": 9,
   "id": "1c321dab",
   "metadata": {},
   "outputs": [
    {
     "name": "stderr",
     "output_type": "stream",
     "text": [
      "                                                                                \r"
     ]
    }
   ],
   "source": [
    "parsed_df.drop('z_salario_mensal')\n",
    "\n",
    "# Salvando o DataFrame transformado em um novo CSV\n",
    "parsed_df.write.csv(output_filename, header=True, mode='overwrite')"
   ]
  },
  {
   "cell_type": "code",
   "execution_count": 10,
   "id": "d24d4863",
   "metadata": {},
   "outputs": [
    {
     "name": "stdout",
     "output_type": "stream",
     "text": [
      "+-----+-------+------------+-------+-------+-------+-------+-------+-------+-------+-------+-------+-------+-------+-------+----+\n",
      "|Sigla| Código|   Município|2022.01|2022.02|2022.03|2022.04|2022.05|2022.06|2022.07|2022.08|2022.09|2022.10|2022.11|2022.12|_c15|\n",
      "+-----+-------+------------+-------+-------+-------+-------+-------+-------+-------+-------+-------+-------+-------+-------+----+\n",
      "|   AC|1200013|  Acrelândia|   NULL|   NULL|   NULL|   NULL|   NULL|   NULL|   NULL|   NULL|   NULL|   NULL|   NULL|   NULL|NULL|\n",
      "|   AC|1200054|Assis Brasil|   NULL|   NULL|   NULL|   NULL|   NULL|   NULL|   NULL|   NULL|   NULL|   NULL|   NULL|   NULL|NULL|\n",
      "|   AC|1200104|   Brasiléia|   NULL|   NULL|   NULL|   NULL|   NULL|   NULL|   NULL|   NULL|   NULL|   NULL|   NULL|   NULL|NULL|\n",
      "|   AC|1200138|      Bujari|   NULL|   NULL|   NULL|   NULL|   NULL|   NULL|   NULL|   NULL|   NULL|   NULL|   NULL|   NULL|NULL|\n",
      "|   AC|1200179|    Capixaba|   NULL|   NULL|   NULL|   NULL|   NULL|   NULL|   NULL|   NULL|   NULL|   NULL|   NULL|   NULL|NULL|\n",
      "+-----+-------+------------+-------+-------+-------+-------+-------+-------+-------+-------+-------+-------+-------+-------+----+\n",
      "only showing top 5 rows\n",
      "\n"
     ]
    },
    {
     "name": "stderr",
     "output_type": "stream",
     "text": [
      "24/05/26 23:25:16 WARN CSVHeaderChecker: CSV header does not conform to the schema.\n",
      " Header: Sigla, Código, Município, 2022.01, 2022.02, 2022.03, 2022.04, 2022.05, 2022.06, 2022.07, 2022.08, 2022.09, 2022.10, 2022.11, 2022.12, \n",
      " Schema: Sigla, Código, Município, 2022.01, 2022.02, 2022.03, 2022.04, 2022.05, 2022.06, 2022.07, 2022.08, 2022.09, 2022.10, 2022.11, 2022.12, _c15\n",
      "Expected: _c15 but found: \n",
      "CSV file: file:///home/hellhat/Documents/facul/BigData/cesta_basica_2022.csv\n"
     ]
    }
   ],
   "source": [
    "cb_df = spark.read.csv('./cesta_basica_2022.csv', header=True, sep=',') \n",
    "\n",
    "cb_df.show(5)"
   ]
  },
  {
   "cell_type": "code",
   "execution_count": 11,
   "id": "2ccef668",
   "metadata": {},
   "outputs": [],
   "source": [
    "cb_df = cb_df.drop('_c15')\n",
    "cb_df = cb_df.filter(cb_df[\"`2022.01`\"].isNotNull())"
   ]
  },
  {
   "cell_type": "code",
   "execution_count": 12,
   "id": "5c1b7c88",
   "metadata": {},
   "outputs": [],
   "source": [
    "monthly_columns = [f\"`2022.{str(i).zfill(2)}`\" for i in range(1, 13)]\n",
    "monthly_columns_no_parsing = [f\"2022.{str(i).zfill(2)}\" for i in range(1, 13)]\n",
    "\n",
    "\n",
    "# Calculate the mean of the monthly columns\n",
    "cb_df = cb_df.withColumn(\"media_cesta_basica\", sum(col(c) for c in monthly_columns) / len(monthly_columns))\n",
    "\n",
    "# Drop the original monthly columns\n",
    "cb_df = cb_df.drop(*monthly_columns_no_parsing)"
   ]
  },
  {
   "cell_type": "code",
   "execution_count": 13,
   "id": "6332de2a",
   "metadata": {},
   "outputs": [
    {
     "name": "stdout",
     "output_type": "stream",
     "text": [
      "+-----+------------------+\n",
      "|Sigla|media_cesta_basica|\n",
      "+-----+------------------+\n",
      "|   BA| 566.3316666666667|\n",
      "|   CE|             631.8|\n",
      "|   DF| 699.4575000000001|\n",
      "|   ES| 701.6608333333334|\n",
      "|   GO|          668.6175|\n",
      "|   MG|          661.0075|\n",
      "|   MS| 713.1366666666667|\n",
      "|   PA| 613.7741666666667|\n",
      "|   PB|            563.41|\n",
      "|   PE| 576.2008333333334|\n",
      "|   PR| 691.9408333333332|\n",
      "|   RJ|             730.0|\n",
      "|   RN| 579.3108333333332|\n",
      "|   RS|          747.3175|\n",
      "|   SC| 751.2283333333334|\n",
      "|   SE| 529.0558333333335|\n",
      "|   SP| 762.2308333333331|\n",
      "+-----+------------------+\n",
      "\n"
     ]
    }
   ],
   "source": [
    "cb_df = cb_df.drop('Código', 'Município')\n",
    "cb_df.show(30)\n",
    "cb_df.write.csv('parsed_cesta_basica.csv', header=True, mode='overwrite')"
   ]
  },
  {
   "cell_type": "code",
   "execution_count": 15,
   "id": "76a8f8f7",
   "metadata": {
    "scrolled": true
   },
   "outputs": [
    {
     "name": "stdout",
     "output_type": "stream",
     "text": [
      "+----+---+---+------------+----------------+------------------+-----------------+-----+-----------------+-----+---------------+--------------+--------------------+-----+------------------+\n",
      "| ano|mes| uf|cnae_2_secao|cnae_2_subclasse|saldo_movimentacao|grau_de_instrucao|idade|horas_contratuais| sexo|tipo_empregador|salario_mensal|    z_salario_mensal|Sigla|media_cesta_basica|\n",
      "+----+---+---+------------+----------------+------------------+-----------------+-----+-----------------+-----+---------------+--------------+--------------------+-----+------------------+\n",
      "|2023|  4| SP|           H|         4930202|          DEMITIDO|                6|   37|             44.0|HOMEM|           CNPJ|       2060.89|-4.35810612401561...|   SP| 762.2308333333331|\n",
      "|2023|  4| SP|           H|         4930202|          DEMITIDO|                7|   28|             44.0|HOMEM|           CNPJ|       2428.16|-3.97319863508181...|   SP| 762.2308333333331|\n",
      "|2023|  4| SP|           H|         4930202|          DEMITIDO|                7|   24|             44.0|HOMEM|           CNPJ|        1898.0|-4.52881862673140...|   SP| 762.2308333333331|\n",
      "|2023|  4| SP|           H|         4930202|          DEMITIDO|                7|   27|             44.0|HOMEM|           CNPJ|       2361.87|-4.04267209450246...|   SP| 762.2308333333331|\n",
      "|2023|  4| SP|           H|         4930202|          DEMITIDO|                7|   28|             44.0|HOMEM|           CNPJ|        1490.7|-4.95567848526256...|   SP| 762.2308333333331|\n",
      "+----+---+---+------------+----------------+------------------+-----------------+-----+-----------------+-----+---------------+--------------+--------------------+-----+------------------+\n",
      "only showing top 5 rows\n",
      "\n"
     ]
    }
   ],
   "source": [
    "full_df = parsed_df.join(cb_df, on=parsed_df['uf'] == cb_df['Sigla'], how='left')\n",
    "full_df.show(5)"
   ]
  },
  {
   "cell_type": "code",
   "execution_count": 17,
   "id": "2963cba8",
   "metadata": {},
   "outputs": [],
   "source": [
    "full_df = full_df.drop('Sigla')"
   ]
  },
  {
   "cell_type": "markdown",
   "id": "7e6c04a3",
   "metadata": {},
   "source": [
    "# Playing with the dataset"
   ]
  },
  {
   "cell_type": "code",
   "execution_count": 22,
   "id": "ff60d424",
   "metadata": {},
   "outputs": [
    {
     "name": "stderr",
     "output_type": "stream",
     "text": [
      "[Stage 24:====================================================>   (28 + 2) / 30]\r"
     ]
    },
    {
     "name": "stdout",
     "output_type": "stream",
     "text": [
      "+---+------------------+\n",
      "| uf|    media_salarial|\n",
      "+---+------------------+\n",
      "| SP|2923.3711841226173|\n",
      "| PI|2807.2746384990223|\n",
      "| AL|2641.3364385080627|\n",
      "| CE|2515.6744243826147|\n",
      "| MA|2373.9459337012436|\n",
      "| RJ|2317.5292203898243|\n",
      "| AM|2293.5330043869867|\n",
      "| RN|2291.5329806441164|\n",
      "| SE|2224.3690922307865|\n",
      "| DF|2068.0411921843065|\n",
      "| SC| 2055.297253757904|\n",
      "| RS|2046.8056555505402|\n",
      "| MT| 2029.660055532179|\n",
      "| PB|2019.5937423265405|\n",
      "| PA|1989.9101474046513|\n",
      "| MG|1974.3258626969548|\n",
      "| PR| 1963.952018026921|\n",
      "| PE|1950.8765826423116|\n",
      "| ES|1871.8810979755474|\n",
      "| TO|1835.5229983862853|\n",
      "| BA|1832.1725148991773|\n",
      "| MS|1818.1947309079478|\n",
      "| RR|1774.1887298324473|\n",
      "| GO|1771.6566836370903|\n",
      "| RO| 1744.896178846981|\n",
      "| AP|1711.5313078735744|\n",
      "| AC|1642.9652361871943|\n",
      "+---+------------------+\n",
      "\n"
     ]
    },
    {
     "name": "stderr",
     "output_type": "stream",
     "text": [
      "\r",
      "                                                                                \r"
     ]
    }
   ],
   "source": [
    "from pyspark.sql.functions import avg\n",
    "\n",
    "\n",
    "# Calcular a média salarial por estado (UF)\n",
    "media_salarial_por_estado = full_df.groupBy(\"uf\") \\\n",
    "    .agg(avg(\"salario_mensal\").alias(\"media_salarial\")) \\\n",
    "    .orderBy(\"media_salarial\", ascending=False)\n",
    "\n",
    "# Mostrar os resultados\n",
    "media_salarial_por_estado.show(30)"
   ]
  },
  {
   "cell_type": "code",
   "execution_count": 24,
   "id": "374575fb",
   "metadata": {},
   "outputs": [
    {
     "name": "stderr",
     "output_type": "stream",
     "text": [
      "[Stage 32:================================================>       (26 + 4) / 30]\r"
     ]
    },
    {
     "name": "stdout",
     "output_type": "stream",
     "text": [
      "+------------+------------------+\n",
      "|cnae_2_secao|    media_salarial|\n",
      "+------------+------------------+\n",
      "|           U| 6447.229938009049|\n",
      "|           D|  4621.93107799412|\n",
      "|           K| 4191.072622292891|\n",
      "|           O| 3864.180997402517|\n",
      "|           J|  3657.15807580429|\n",
      "|           B| 3532.379130789599|\n",
      "|           P| 2981.962419645588|\n",
      "|           R| 2937.194098428671|\n",
      "|           C| 2853.465672203824|\n",
      "|           M| 2693.738254587626|\n",
      "|           F|2649.9833073296613|\n",
      "|           A|2335.2600468079977|\n",
      "|           Q| 2308.726861584374|\n",
      "|           E|2238.4984828087922|\n",
      "|           S| 2211.294496907875|\n",
      "|           H|2193.0501905286446|\n",
      "|           Z|2171.2659045454548|\n",
      "|           L| 2106.570432684665|\n",
      "|           N|1900.1737681577804|\n",
      "|           G|1829.1474373848505|\n",
      "+------------+------------------+\n",
      "only showing top 20 rows\n",
      "\n",
      "Seção CNAE com maior salário: Column<'cnae_2_secao'> com média salarial de Column<'media_salarial'>\n"
     ]
    },
    {
     "name": "stderr",
     "output_type": "stream",
     "text": [
      "\r",
      "[Stage 32:======================================================> (29 + 1) / 30]\r",
      "\r",
      "                                                                                \r"
     ]
    }
   ],
   "source": [
    "# Calcular a média salarial por seção CNAE\n",
    "media_salarial_por_cnae = full_df.groupBy(\"cnae_2_secao\").agg(avg(\"salario_mensal\").alias(\"media_salarial\"))\n",
    "\n",
    "# Ordenar pela média salarial de forma decrescente e pegar a seção CNAE com maior salário\n",
    "maior_salario_secao_cnae = media_salarial_por_cnae.orderBy(\"media_salarial\", ascending=False)\n",
    "\n",
    "maior_salario_secao_cnae.show(20)\n",
    "\n",
    "# Mostrar o resultado\n",
    "print(f\"Seção CNAE com maior salário: {maior_salario_secao_cnae['cnae_2_secao']} com média salarial de {maior_salario_secao_cnae['media_salarial']}\")"
   ]
  },
  {
   "cell_type": "code",
   "execution_count": null,
   "id": "dc3bfe18",
   "metadata": {},
   "outputs": [],
   "source": []
  }
 ],
 "metadata": {
  "kernelspec": {
   "display_name": "Python 3 (ipykernel)",
   "language": "python",
   "name": "python3"
  },
  "language_info": {
   "codemirror_mode": {
    "name": "ipython",
    "version": 3
   },
   "file_extension": ".py",
   "mimetype": "text/x-python",
   "name": "python",
   "nbconvert_exporter": "python",
   "pygments_lexer": "ipython3",
   "version": "3.11.7"
  }
 },
 "nbformat": 4,
 "nbformat_minor": 5
}
