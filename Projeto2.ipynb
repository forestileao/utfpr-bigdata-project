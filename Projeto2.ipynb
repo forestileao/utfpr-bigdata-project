{
 "cells": [
  {
   "cell_type": "code",
   "execution_count": 1,
   "metadata": {},
   "outputs": [],
   "source": [
    "from pyspark.sql import SparkSession\n",
    "from pyspark.ml.feature import StringIndexer, OneHotEncoder, VectorAssembler\n",
    "from pyspark.ml.regression import LinearRegression, RandomForestRegressor\n",
    "from pyspark.ml.evaluation import RegressionEvaluator\n"
   ]
  },
  {
   "cell_type": "code",
   "execution_count": 2,
   "metadata": {},
   "outputs": [
    {
     "name": "stderr",
     "output_type": "stream",
     "text": [
      "Setting default log level to \"WARN\".\n",
      "To adjust logging level use sc.setLogLevel(newLevel). For SparkR, use setLogLevel(newLevel).\n",
      "24/06/16 21:37:45 WARN NativeCodeLoader: Unable to load native-hadoop library for your platform... using builtin-java classes where applicable\n",
      "                                                                                \r"
     ]
    }
   ],
   "source": [
    "spark = SparkSession.builder.appName(\"SalaryPrediction\").getOrCreate()\n",
    "data = spark.read.csv(\"dados_caged_2022_parsed.csv\", header=True, inferSchema=True)\n",
    "# Removendo registros com valores nulos\n",
    "data = data.na.drop()\n"
   ]
  },
  {
   "cell_type": "markdown",
   "metadata": {},
   "source": [
    "# Feature Engineering e Transformações"
   ]
  },
  {
   "cell_type": "code",
   "execution_count": 4,
   "metadata": {},
   "outputs": [],
   "source": [
    "categorical_values = [\"uf\", \"cnae_2_secao\", \"cnae_2_subclasse\", \"sexo\", \"grau_de_instrucao\"]\n",
    "\n",
    "indexers = [StringIndexer(inputCol=column, outputCol=column+\"_index\") for column in categorical_values]\n",
    "encoders = [OneHotEncoder(inputCol=column+\"_index\", outputCol=column+\"_vec\") for column in categorical_values]\n",
    "assembler = VectorAssembler(inputCols=[\"horas_contratuais\", \"idade\"] + [column+\"_vec\" for column in categorical_values], outputCol=\"features\")"
   ]
  },
  {
   "cell_type": "markdown",
   "metadata": {},
   "source": [
    "# Pipeline de transformação"
   ]
  },
  {
   "cell_type": "code",
   "execution_count": 6,
   "metadata": {},
   "outputs": [],
   "source": [
    "from pyspark.ml import Pipeline\n",
    "pipeline = Pipeline(stages=indexers + encoders + [assembler])"
   ]
  },
  {
   "cell_type": "code",
   "execution_count": 7,
   "metadata": {},
   "outputs": [
    {
     "name": "stderr",
     "output_type": "stream",
     "text": [
      "                                                                                \r"
     ]
    }
   ],
   "source": [
    "data = pipeline.fit(data).transform(data)\n",
    "data = data.select(\"features\", \"salario_mensal\")\n"
   ]
  },
  {
   "cell_type": "markdown",
   "metadata": {},
   "source": [
    "# Treinamento dos modelos"
   ]
  },
  {
   "cell_type": "code",
   "execution_count": 8,
   "metadata": {},
   "outputs": [
    {
     "name": "stderr",
     "output_type": "stream",
     "text": [
      "24/06/16 21:44:13 WARN InstanceBuilder: Failed to load implementation from:dev.ludovic.netlib.blas.JNIBLAS\n",
      "24/06/16 21:44:13 WARN InstanceBuilder: Failed to load implementation from:dev.ludovic.netlib.blas.VectorBLAS\n",
      "24/06/16 21:46:58 WARN InstanceBuilder: Failed to load implementation from:dev.ludovic.netlib.lapack.JNILAPACK\n",
      "24/06/16 21:57:44 WARN MemoryStore: Not enough space to cache rdd_94_5 in memory! (computed 30.2 MiB so far)\n",
      "24/06/16 21:57:44 WARN BlockManager: Persisting block rdd_94_5 to disk instead.\n",
      "24/06/16 21:57:44 WARN MemoryStore: Not enough space to cache rdd_94_7 in memory! (computed 30.2 MiB so far)\n",
      "24/06/16 21:57:44 WARN BlockManager: Persisting block rdd_94_7 to disk instead.\n",
      "24/06/16 21:57:44 WARN MemoryStore: Not enough space to cache rdd_94_0 in memory! (computed 74.2 MiB so far)\n",
      "24/06/16 21:57:44 WARN BlockManager: Persisting block rdd_94_0 to disk instead.\n",
      "24/06/16 21:57:44 WARN MemoryStore: Not enough space to cache rdd_94_4 in memory! (computed 49.4 MiB so far)\n",
      "24/06/16 21:57:44 WARN BlockManager: Persisting block rdd_94_4 to disk instead.\n",
      "24/06/16 21:57:45 WARN MemoryStore: Not enough space to cache rdd_94_6 in memory! (computed 111.4 MiB so far)\n",
      "24/06/16 21:57:45 WARN BlockManager: Persisting block rdd_94_6 to disk instead.\n",
      "24/06/16 21:57:45 WARN MemoryStore: Not enough space to cache rdd_94_3 in memory! (computed 49.4 MiB so far)\n",
      "24/06/16 21:57:45 WARN BlockManager: Persisting block rdd_94_3 to disk instead.\n",
      "24/06/16 21:57:45 WARN MemoryStore: Not enough space to cache rdd_94_2 in memory! (computed 30.2 MiB so far)\n",
      "24/06/16 21:57:45 WARN BlockManager: Persisting block rdd_94_2 to disk instead.\n",
      "24/06/16 21:57:45 WARN MemoryStore: Not enough space to cache rdd_94_1 in memory! (computed 74.2 MiB so far)\n",
      "24/06/16 21:57:45 WARN BlockManager: Persisting block rdd_94_1 to disk instead.\n",
      "24/06/16 21:59:10 WARN MemoryStore: Not enough space to cache rdd_94_5 in memory! (computed 49.4 MiB so far)\n",
      "24/06/16 21:59:10 WARN MemoryStore: Not enough space to cache rdd_94_0 in memory! (computed 252.5 MiB so far)\n",
      "24/06/16 21:59:10 WARN MemoryStore: Not enough space to cache rdd_94_3 in memory! (computed 30.2 MiB so far)\n",
      "24/06/16 21:59:11 WARN MemoryStore: Not enough space to cache rdd_94_7 in memory! (computed 13.3 MiB so far)\n",
      "24/06/16 21:59:11 WARN MemoryStore: Not enough space to cache rdd_94_4 in memory! (computed 20.0 MiB so far)\n",
      "24/06/16 21:59:11 WARN MemoryStore: Not enough space to cache rdd_94_6 in memory! (computed 111.4 MiB so far)\n",
      "24/06/16 21:59:12 WARN MemoryStore: Not enough space to cache rdd_94_1 in memory! (computed 30.2 MiB so far)\n",
      "24/06/16 21:59:13 WARN MemoryStore: Not enough space to cache rdd_94_2 in memory! (computed 49.4 MiB so far)\n",
      "24/06/16 22:04:41 WARN MemoryStore: Not enough space to cache rdd_94_8 in memory! (computed 111.4 MiB so far)\n",
      "24/06/16 22:04:41 WARN BlockManager: Persisting block rdd_94_8 to disk instead.\n",
      "24/06/16 22:04:41 WARN MemoryStore: Not enough space to cache rdd_94_9 in memory! (computed 74.2 MiB so far)\n",
      "24/06/16 22:04:41 WARN BlockManager: Persisting block rdd_94_9 to disk instead.\n",
      "24/06/16 22:04:45 WARN MemoryStore: Not enough space to cache rdd_94_10 in memory! (computed 49.4 MiB so far)\n",
      "24/06/16 22:04:45 WARN BlockManager: Persisting block rdd_94_10 to disk instead.\n",
      "24/06/16 22:04:47 WARN MemoryStore: Not enough space to cache rdd_94_11 in memory! (computed 74.2 MiB so far)\n",
      "24/06/16 22:04:47 WARN BlockManager: Persisting block rdd_94_11 to disk instead.\n",
      "24/06/16 22:04:47 WARN MemoryStore: Not enough space to cache rdd_94_12 in memory! (computed 111.4 MiB so far)\n",
      "24/06/16 22:04:47 WARN BlockManager: Persisting block rdd_94_12 to disk instead.\n",
      "24/06/16 22:05:44 WARN MemoryStore: Not enough space to cache rdd_94_9 in memory! (computed 167.5 MiB so far)\n",
      "24/06/16 22:05:47 WARN MemoryStore: Not enough space to cache rdd_94_8 in memory! (computed 167.5 MiB so far)\n",
      "24/06/16 22:05:47 WARN MemoryStore: Not enough space to cache rdd_94_13 in memory! (computed 49.4 MiB so far)\n",
      "24/06/16 22:05:47 WARN BlockManager: Persisting block rdd_94_13 to disk instead.\n",
      "24/06/16 22:05:48 WARN MemoryStore: Not enough space to cache rdd_94_12 in memory! (computed 74.2 MiB so far)\n",
      "24/06/16 22:05:52 WARN MemoryStore: Not enough space to cache rdd_94_11 in memory! (computed 74.2 MiB so far)\n",
      "24/06/16 22:05:52 WARN MemoryStore: Not enough space to cache rdd_94_10 in memory! (computed 49.4 MiB so far)\n",
      "24/06/16 22:05:52 WARN MemoryStore: Not enough space to cache rdd_94_14 in memory! (computed 252.5 MiB so far)\n",
      "24/06/16 22:05:52 WARN BlockManager: Persisting block rdd_94_14 to disk instead.\n",
      "24/06/16 22:06:15 WARN MemoryStore: Not enough space to cache rdd_94_15 in memory! (computed 396.8 MiB so far)\n",
      "24/06/16 22:06:15 WARN BlockManager: Persisting block rdd_94_15 to disk instead.\n",
      "24/06/16 22:07:40 WARN MemoryStore: Not enough space to cache rdd_94_13 in memory! (computed 396.8 MiB so far)\n",
      "24/06/16 22:07:40 WARN MemoryStore: Not enough space to cache rdd_94_14 in memory! (computed 30.2 MiB so far)\n",
      "24/06/16 22:08:07 WARN MemoryStore: Not enough space to cache rdd_94_15 in memory! (computed 396.8 MiB so far)\n",
      "24/06/16 22:09:55 WARN MemoryStore: Not enough space to cache rdd_94_16 in memory! (computed 111.4 MiB so far)\n",
      "24/06/16 22:09:55 WARN BlockManager: Persisting block rdd_94_16 to disk instead.\n",
      "24/06/16 22:10:02 WARN MemoryStore: Not enough space to cache rdd_94_17 in memory! (computed 111.4 MiB so far)\n",
      "24/06/16 22:10:02 WARN BlockManager: Persisting block rdd_94_17 to disk instead.\n",
      "24/06/16 22:10:18 WARN MemoryStore: Not enough space to cache rdd_94_18 in memory! (computed 167.5 MiB so far)\n",
      "24/06/16 22:10:18 WARN BlockManager: Persisting block rdd_94_18 to disk instead.\n",
      "24/06/16 22:10:23 WARN MemoryStore: Not enough space to cache rdd_94_19 in memory! (computed 49.4 MiB so far)\n",
      "24/06/16 22:10:23 WARN BlockManager: Persisting block rdd_94_19 to disk instead.\n",
      "24/06/16 22:10:23 WARN MemoryStore: Not enough space to cache rdd_94_20 in memory! (computed 111.4 MiB so far)\n",
      "24/06/16 22:10:23 WARN BlockManager: Persisting block rdd_94_20 to disk instead.\n",
      "24/06/16 22:11:27 WARN MemoryStore: Not enough space to cache rdd_94_21 in memory! (computed 74.2 MiB so far)\n",
      "24/06/16 22:11:27 WARN BlockManager: Persisting block rdd_94_21 to disk instead.\n",
      "24/06/16 22:11:29 WARN MemoryStore: Not enough space to cache rdd_94_16 in memory! (computed 111.4 MiB so far)\n",
      "24/06/16 22:11:35 WARN MemoryStore: Not enough space to cache rdd_94_17 in memory! (computed 111.4 MiB so far)\n",
      "24/06/16 22:11:41 WARN MemoryStore: Not enough space to cache rdd_94_22 in memory! (computed 111.4 MiB so far)\n",
      "24/06/16 22:11:41 WARN BlockManager: Persisting block rdd_94_22 to disk instead.\n",
      "24/06/16 22:11:51 WARN MemoryStore: Not enough space to cache rdd_94_18 in memory! (computed 167.5 MiB so far)\n",
      "24/06/16 22:11:52 WARN MemoryStore: Not enough space to cache rdd_94_20 in memory! (computed 74.2 MiB so far)\n",
      "24/06/16 22:11:56 WARN MemoryStore: Not enough space to cache rdd_94_19 in memory! (computed 252.5 MiB so far)\n",
      "24/06/16 22:11:59 WARN MemoryStore: Not enough space to cache rdd_94_23 in memory! (computed 49.4 MiB so far)\n",
      "24/06/16 22:11:59 WARN BlockManager: Persisting block rdd_94_23 to disk instead.\n",
      "24/06/16 22:13:16 WARN MemoryStore: Not enough space to cache rdd_94_21 in memory! (computed 252.5 MiB so far)\n",
      "24/06/16 22:13:37 WARN MemoryStore: Not enough space to cache rdd_94_22 in memory! (computed 396.8 MiB so far)\n",
      "24/06/16 22:13:54 WARN MemoryStore: Not enough space to cache rdd_94_23 in memory! (computed 396.8 MiB so far)\n",
      "24/06/16 22:15:24 WARN MemoryStore: Failed to reserve initial memory threshold of 1024.0 KiB for computing block rdd_94_27 in memory.\n",
      "24/06/16 22:15:32 WARN MemoryStore: Not enough space to cache rdd_94_24 in memory! (computed 167.5 MiB so far)\n",
      "24/06/16 22:15:32 WARN BlockManager: Persisting block rdd_94_24 to disk instead.\n",
      "24/06/16 22:16:01 WARN MemoryStore: Not enough space to cache rdd_94_25 in memory! (computed 74.2 MiB so far)\n",
      "24/06/16 22:16:01 WARN BlockManager: Persisting block rdd_94_25 to disk instead.\n",
      "24/06/16 22:16:06 WARN MemoryStore: Not enough space to cache rdd_94_27 in memory! (computed 384.0 B so far)\n",
      "24/06/16 22:16:06 WARN BlockManager: Persisting block rdd_94_27 to disk instead.\n",
      "24/06/16 22:16:08 WARN MemoryStore: Not enough space to cache rdd_94_26 in memory! (computed 167.5 MiB so far)\n",
      "24/06/16 22:16:08 WARN BlockManager: Persisting block rdd_94_26 to disk instead.\n",
      "24/06/16 22:16:18 WARN MemoryStore: Not enough space to cache rdd_94_28 in memory! (computed 111.4 MiB so far)\n",
      "24/06/16 22:16:18 WARN BlockManager: Persisting block rdd_94_28 to disk instead.\n",
      "24/06/16 22:17:01 WARN MemoryStore: Not enough space to cache rdd_94_29 in memory! (computed 111.4 MiB so far)\n",
      "24/06/16 22:17:01 WARN BlockManager: Persisting block rdd_94_29 to disk instead.\n",
      "24/06/16 22:17:04 WARN MemoryStore: Not enough space to cache rdd_94_24 in memory! (computed 167.5 MiB so far)\n",
      "24/06/16 22:17:23 WARN MemoryStore: Not enough space to cache rdd_94_25 in memory! (computed 167.5 MiB so far)\n",
      "24/06/16 22:17:27 WARN MemoryStore: Not enough space to cache rdd_94_27 in memory! (computed 167.5 MiB so far)\n",
      "24/06/16 22:17:27 WARN MemoryStore: Not enough space to cache rdd_94_26 in memory! (computed 167.5 MiB so far)\n",
      "24/06/16 22:17:39 WARN MemoryStore: Not enough space to cache rdd_94_28 in memory! (computed 396.8 MiB so far)\n",
      "24/06/16 22:17:48 WARN MemoryStore: Not enough space to cache rdd_94_29 in memory! (computed 396.8 MiB so far)\n",
      "24/06/16 22:20:19 WARN MemoryStore: Not enough space to cache rdd_94_3 in memory! (computed 49.4 MiB so far)\n",
      "24/06/16 22:20:19 WARN MemoryStore: Not enough space to cache rdd_94_5 in memory! (computed 49.4 MiB so far)\n",
      "24/06/16 22:20:19 WARN MemoryStore: Not enough space to cache rdd_94_7 in memory! (computed 49.4 MiB so far)\n",
      "24/06/16 22:20:19 WARN MemoryStore: Not enough space to cache rdd_94_6 in memory! (computed 49.4 MiB so far)\n",
      "24/06/16 22:20:20 WARN MemoryStore: Not enough space to cache rdd_94_2 in memory! (computed 49.4 MiB so far)\n",
      "24/06/16 22:20:20 WARN MemoryStore: Not enough space to cache rdd_94_0 in memory! (computed 74.2 MiB so far)\n",
      "24/06/16 22:20:20 WARN MemoryStore: Not enough space to cache rdd_94_4 in memory! (computed 49.4 MiB so far)\n",
      "24/06/16 22:20:20 WARN MemoryStore: Not enough space to cache rdd_94_1 in memory! (computed 74.2 MiB so far)\n",
      "24/06/16 22:26:21 WARN MemoryStore: Not enough space to cache rdd_94_9 in memory! (computed 111.4 MiB so far)\n",
      "24/06/16 22:26:21 WARN MemoryStore: Not enough space to cache rdd_94_10 in memory! (computed 111.4 MiB so far)\n",
      "24/06/16 22:26:21 WARN MemoryStore: Not enough space to cache rdd_94_8 in memory! (computed 167.5 MiB so far)\n",
      "24/06/16 22:26:28 WARN MemoryStore: Not enough space to cache rdd_94_11 in memory! (computed 252.5 MiB so far)\n",
      "24/06/16 22:26:29 WARN MemoryStore: Not enough space to cache rdd_94_12 in memory! (computed 167.5 MiB so far)\n",
      "24/06/16 22:27:12 WARN MemoryStore: Not enough space to cache rdd_94_14 in memory! (computed 49.4 MiB so far)\n",
      "24/06/16 22:27:12 WARN MemoryStore: Not enough space to cache rdd_94_13 in memory! (computed 396.8 MiB so far)\n",
      "24/06/16 22:27:19 WARN MemoryStore: Not enough space to cache rdd_94_15 in memory! (computed 49.4 MiB so far)\n",
      "24/06/16 22:32:15 WARN MemoryStore: Not enough space to cache rdd_94_17 in memory! (computed 167.5 MiB so far)\n",
      "24/06/16 22:32:16 WARN MemoryStore: Not enough space to cache rdd_94_16 in memory! (computed 252.5 MiB so far)\n",
      "24/06/16 22:32:19 WARN MemoryStore: Not enough space to cache rdd_94_18 in memory! (computed 13.3 MiB so far)\n",
      "24/06/16 22:32:46 WARN MemoryStore: Not enough space to cache rdd_94_19 in memory! (computed 396.8 MiB so far)\n",
      "24/06/16 22:32:50 WARN MemoryStore: Not enough space to cache rdd_94_20 in memory! (computed 49.4 MiB so far)\n",
      "24/06/16 22:32:53 WARN MemoryStore: Not enough space to cache rdd_94_21 in memory! (computed 49.4 MiB so far)\n",
      "24/06/16 22:32:54 WARN MemoryStore: Not enough space to cache rdd_94_22 in memory! (computed 8.7 MiB so far)\n",
      "24/06/16 22:33:06 WARN MemoryStore: Not enough space to cache rdd_94_23 in memory! (computed 396.8 MiB so far)\n",
      "24/06/16 22:38:09 WARN MemoryStore: Not enough space to cache rdd_94_24 in memory! (computed 396.8 MiB so far)\n",
      "24/06/16 22:38:14 WARN MemoryStore: Not enough space to cache rdd_94_25 in memory! (computed 49.4 MiB so far)\n",
      "24/06/16 22:38:18 WARN MemoryStore: Not enough space to cache rdd_94_26 in memory! (computed 49.4 MiB so far)\n",
      "24/06/16 22:38:29 WARN MemoryStore: Not enough space to cache rdd_94_27 in memory! (computed 396.8 MiB so far)\n",
      "24/06/16 22:38:33 WARN MemoryStore: Not enough space to cache rdd_94_28 in memory! (computed 49.4 MiB so far)\n",
      "24/06/16 22:38:56 WARN MemoryStore: Not enough space to cache rdd_94_29 in memory! (computed 396.8 MiB so far)\n",
      "24/06/16 22:41:48 WARN MemoryStore: Not enough space to cache rdd_94_7 in memory! (computed 49.4 MiB so far)\n",
      "24/06/16 22:41:48 WARN MemoryStore: Not enough space to cache rdd_94_3 in memory! (computed 30.2 MiB so far)\n",
      "24/06/16 22:41:48 WARN MemoryStore: Not enough space to cache rdd_94_0 in memory! (computed 49.4 MiB so far)\n",
      "24/06/16 22:41:48 WARN MemoryStore: Not enough space to cache rdd_94_4 in memory! (computed 49.4 MiB so far)\n",
      "24/06/16 22:41:48 WARN MemoryStore: Not enough space to cache rdd_94_5 in memory! (computed 49.4 MiB so far)\n",
      "24/06/16 22:41:48 WARN MemoryStore: Not enough space to cache rdd_94_2 in memory! (computed 74.2 MiB so far)\n",
      "24/06/16 22:41:49 WARN MemoryStore: Not enough space to cache rdd_94_1 in memory! (computed 74.2 MiB so far)\n",
      "24/06/16 22:41:49 WARN MemoryStore: Not enough space to cache rdd_94_6 in memory! (computed 74.2 MiB so far)\n",
      "24/06/16 22:48:20 WARN MemoryStore: Not enough space to cache rdd_94_8 in memory! (computed 252.5 MiB so far)\n",
      "24/06/16 22:48:20 WARN MemoryStore: Not enough space to cache rdd_94_9 in memory! (computed 167.5 MiB so far)\n",
      "24/06/16 22:48:21 WARN MemoryStore: Not enough space to cache rdd_94_10 in memory! (computed 13.3 MiB so far)\n",
      "24/06/16 22:48:21 WARN MemoryStore: Not enough space to cache rdd_94_11 in memory! (computed 2.5 MiB so far)\n",
      "24/06/16 22:48:31 WARN MemoryStore: Not enough space to cache rdd_94_12 in memory! (computed 396.8 MiB so far)\n",
      "24/06/16 22:48:32 WARN MemoryStore: Not enough space to cache rdd_94_13 in memory! (computed 49.4 MiB so far)\n",
      "24/06/16 22:48:41 WARN MemoryStore: Not enough space to cache rdd_94_14 in memory! (computed 49.4 MiB so far)\n",
      "24/06/16 22:49:26 WARN MemoryStore: Not enough space to cache rdd_94_15 in memory! (computed 396.8 MiB so far)\n",
      "24/06/16 22:54:19 WARN MemoryStore: Not enough space to cache rdd_94_16 in memory! (computed 396.8 MiB so far)\n",
      "24/06/16 22:54:20 WARN MemoryStore: Not enough space to cache rdd_94_17 in memory! (computed 49.4 MiB so far)\n",
      "24/06/16 22:54:25 WARN MemoryStore: Not enough space to cache rdd_94_18 in memory! (computed 49.4 MiB so far)\n",
      "24/06/16 22:54:31 WARN MemoryStore: Not enough space to cache rdd_94_19 in memory! (computed 49.4 MiB so far)\n",
      "24/06/16 22:54:51 WARN MemoryStore: Not enough space to cache rdd_94_20 in memory! (computed 396.8 MiB so far)\n",
      "24/06/16 22:55:24 WARN MemoryStore: Not enough space to cache rdd_94_21 in memory! (computed 252.5 MiB so far)\n",
      "24/06/16 22:55:25 WARN MemoryStore: Not enough space to cache rdd_94_22 in memory! (computed 167.5 MiB so far)\n",
      "24/06/16 22:56:14 WARN MemoryStore: Not enough space to cache rdd_94_23 in memory! (computed 396.8 MiB so far)\n",
      "24/06/16 23:00:31 WARN MemoryStore: Not enough space to cache rdd_94_25 in memory! (computed 49.4 MiB so far)\n",
      "24/06/16 23:00:32 WARN MemoryStore: Not enough space to cache rdd_94_24 in memory! (computed 396.8 MiB so far)\n",
      "24/06/16 23:01:02 WARN MemoryStore: Not enough space to cache rdd_94_26 in memory! (computed 396.8 MiB so far)\n",
      "24/06/16 23:01:07 WARN MemoryStore: Not enough space to cache rdd_94_27 in memory! (computed 49.4 MiB so far)\n",
      "24/06/16 23:01:22 WARN MemoryStore: Not enough space to cache rdd_94_28 in memory! (computed 396.8 MiB so far)\n",
      "24/06/16 23:02:13 WARN MemoryStore: Not enough space to cache rdd_94_29 in memory! (computed 396.8 MiB so far)\n",
      "24/06/16 23:05:16 WARN MemoryStore: Not enough space to cache rdd_94_6 in memory! (computed 49.4 MiB so far)\n",
      "24/06/16 23:05:16 WARN MemoryStore: Not enough space to cache rdd_94_1 in memory! (computed 49.4 MiB so far)\n",
      "24/06/16 23:05:16 WARN MemoryStore: Not enough space to cache rdd_94_2 in memory! (computed 49.4 MiB so far)\n",
      "24/06/16 23:05:16 WARN MemoryStore: Not enough space to cache rdd_94_5 in memory! (computed 30.2 MiB so far)\n",
      "24/06/16 23:05:16 WARN MemoryStore: Not enough space to cache rdd_94_0 in memory! (computed 74.2 MiB so far)\n",
      "24/06/16 23:05:16 WARN MemoryStore: Not enough space to cache rdd_94_4 in memory! (computed 74.2 MiB so far)\n",
      "24/06/16 23:05:16 WARN MemoryStore: Not enough space to cache rdd_94_7 in memory! (computed 49.4 MiB so far)\n",
      "24/06/16 23:05:16 WARN MemoryStore: Not enough space to cache rdd_94_3 in memory! (computed 74.2 MiB so far)\n",
      "24/06/16 23:12:16 WARN MemoryStore: Not enough space to cache rdd_94_9 in memory! (computed 167.5 MiB so far)\n",
      "24/06/16 23:12:16 WARN MemoryStore: Not enough space to cache rdd_94_8 in memory! (computed 252.5 MiB so far)\n",
      "24/06/16 23:12:20 WARN MemoryStore: Not enough space to cache rdd_94_10 in memory! (computed 13.3 MiB so far)\n",
      "24/06/16 23:12:26 WARN MemoryStore: Not enough space to cache rdd_94_11 in memory! (computed 167.5 MiB so far)\n",
      "24/06/16 23:12:29 WARN MemoryStore: Not enough space to cache rdd_94_13 in memory! (computed 13.3 MiB so far)\n",
      "24/06/16 23:12:29 WARN MemoryStore: Not enough space to cache rdd_94_12 in memory! (computed 252.5 MiB so far)\n",
      "24/06/16 23:12:59 WARN MemoryStore: Not enough space to cache rdd_94_15 in memory! (computed 49.4 MiB so far)\n",
      "24/06/16 23:12:59 WARN MemoryStore: Not enough space to cache rdd_94_14 in memory! (computed 396.8 MiB so far)\n",
      "24/06/16 23:19:15 WARN MemoryStore: Not enough space to cache rdd_94_16 in memory! (computed 396.8 MiB so far)\n",
      "24/06/16 23:19:30 WARN MemoryStore: Not enough space to cache rdd_94_17 in memory! (computed 49.4 MiB so far)\n",
      "24/06/16 23:19:43 WARN MemoryStore: Not enough space to cache rdd_94_18 in memory! (computed 396.8 MiB so far)\n",
      "24/06/16 23:20:10 WARN MemoryStore: Not enough space to cache rdd_94_19 in memory! (computed 396.8 MiB so far)\n",
      "24/06/16 23:20:19 WARN MemoryStore: Not enough space to cache rdd_94_20 in memory! (computed 49.4 MiB so far)\n",
      "24/06/16 23:20:25 WARN MemoryStore: Not enough space to cache rdd_94_21 in memory! (computed 49.4 MiB so far)\n",
      "24/06/16 23:21:06 WARN MemoryStore: Not enough space to cache rdd_94_22 in memory! (computed 396.8 MiB so far)\n",
      "24/06/16 23:21:06 WARN MemoryStore: Not enough space to cache rdd_94_23 in memory! (computed 49.4 MiB so far)\n",
      "24/06/16 23:26:06 WARN MemoryStore: Not enough space to cache rdd_94_24 in memory! (computed 396.8 MiB so far)\n",
      "24/06/16 23:27:01 WARN MemoryStore: Not enough space to cache rdd_94_25 in memory! (computed 252.5 MiB so far)\n",
      "24/06/16 23:27:02 WARN MemoryStore: Not enough space to cache rdd_94_26 in memory! (computed 167.5 MiB so far)\n",
      "24/06/16 23:27:17 WARN MemoryStore: Not enough space to cache rdd_94_28 in memory! (computed 167.5 MiB so far)\n",
      "24/06/16 23:27:17 WARN MemoryStore: Not enough space to cache rdd_94_27 in memory! (computed 252.5 MiB so far)\n",
      "24/06/16 23:27:56 WARN MemoryStore: Not enough space to cache rdd_94_29 in memory! (computed 396.8 MiB so far)\n",
      "24/06/16 23:31:24 WARN MemoryStore: Not enough space to cache rdd_94_0 in memory! (computed 49.4 MiB so far)\n",
      "24/06/16 23:31:24 WARN MemoryStore: Not enough space to cache rdd_94_4 in memory! (computed 30.2 MiB so far)\n",
      "24/06/16 23:31:24 WARN MemoryStore: Not enough space to cache rdd_94_6 in memory! (computed 49.4 MiB so far)\n",
      "24/06/16 23:31:24 WARN MemoryStore: Not enough space to cache rdd_94_7 in memory! (computed 49.4 MiB so far)\n",
      "24/06/16 23:31:24 WARN MemoryStore: Failed to reserve initial memory threshold of 1024.0 KiB for computing block broadcast_44 in memory.\n",
      "24/06/16 23:31:24 WARN MemoryStore: Not enough space to cache broadcast_44 in memory! (computed 384.0 B so far)\n",
      "24/06/16 23:31:24 WARN MemoryStore: Not enough space to cache rdd_94_5 in memory! (computed 74.2 MiB so far)\n",
      "24/06/16 23:31:24 WARN MemoryStore: Not enough space to cache rdd_94_1 in memory! (computed 49.4 MiB so far)\n",
      "24/06/16 23:31:25 WARN MemoryStore: Not enough space to cache rdd_94_3 in memory! (computed 74.2 MiB so far)\n",
      "24/06/16 23:31:25 WARN MemoryStore: Not enough space to cache rdd_94_2 in memory! (computed 74.2 MiB so far)\n",
      "24/06/16 23:39:08 WARN MemoryStore: Not enough space to cache rdd_94_8 in memory! (computed 396.8 MiB so far)\n",
      "24/06/16 23:39:10 WARN MemoryStore: Not enough space to cache rdd_94_9 in memory! (computed 49.4 MiB so far)\n",
      "24/06/16 23:39:32 WARN MemoryStore: Not enough space to cache rdd_94_10 in memory! (computed 396.8 MiB so far)\n",
      "24/06/16 23:39:33 WARN MemoryStore: Not enough space to cache rdd_94_11 in memory! (computed 49.4 MiB so far)\n",
      "24/06/16 23:39:34 WARN MemoryStore: Not enough space to cache rdd_94_12 in memory! (computed 8.7 MiB so far)\n",
      "24/06/16 23:39:39 WARN MemoryStore: Not enough space to cache rdd_94_13 in memory! (computed 49.4 MiB so far)\n",
      "24/06/16 23:39:53 WARN MemoryStore: Not enough space to cache rdd_94_14 in memory! (computed 396.8 MiB so far)\n",
      "24/06/16 23:40:06 WARN MemoryStore: Not enough space to cache rdd_94_15 in memory! (computed 49.4 MiB so far)\n",
      "24/06/16 23:47:27 WARN MemoryStore: Not enough space to cache rdd_94_16 in memory! (computed 396.8 MiB so far)\n",
      "24/06/16 23:47:41 WARN MemoryStore: Not enough space to cache rdd_94_17 in memory! (computed 49.4 MiB so far)\n",
      "24/06/16 23:47:56 WARN MemoryStore: Not enough space to cache rdd_94_18 in memory! (computed 396.8 MiB so far)\n",
      "24/06/16 23:48:07 WARN MemoryStore: Not enough space to cache rdd_94_19 in memory! (computed 49.4 MiB so far)\n",
      "24/06/16 23:48:37 WARN MemoryStore: Not enough space to cache rdd_94_20 in memory! (computed 396.8 MiB so far)\n",
      "24/06/16 23:48:52 WARN MemoryStore: Not enough space to cache rdd_94_21 in memory! (computed 49.4 MiB so far)\n",
      "24/06/16 23:49:05 WARN MemoryStore: Not enough space to cache rdd_94_22 in memory! (computed 396.8 MiB so far)\n",
      "24/06/16 23:49:34 WARN MemoryStore: Not enough space to cache rdd_94_23 in memory! (computed 396.8 MiB so far)\n",
      "24/06/16 23:55:44 WARN MemoryStore: Not enough space to cache rdd_94_24 in memory! (computed 252.5 MiB so far)\n",
      "24/06/16 23:55:45 WARN MemoryStore: Not enough space to cache rdd_94_25 in memory! (computed 167.5 MiB so far)\n",
      "24/06/16 23:56:30 WARN MemoryStore: Not enough space to cache rdd_94_26 in memory! (computed 252.5 MiB so far)\n",
      "24/06/16 23:56:30 WARN MemoryStore: Not enough space to cache rdd_94_27 in memory! (computed 167.5 MiB so far)\n",
      "24/06/16 23:56:35 WARN MemoryStore: Not enough space to cache rdd_94_28 in memory! (computed 13.3 MiB so far)\n",
      "24/06/16 23:56:46 WARN MemoryStore: Not enough space to cache rdd_94_29 in memory! (computed 396.8 MiB so far)\n",
      "                                                                                \r"
     ]
    }
   ],
   "source": [
    "train_data, test_data = data.randomSplit([0.8, 0.2], seed=42)\n",
    "\n",
    "lr = LinearRegression(labelCol=\"salario_mensal\", featuresCol=\"features\", regParam=0.1)\n",
    "rf = RandomForestRegressor(labelCol=\"salario_mensal\", featuresCol=\"features\")\n",
    "\n",
    "lr_model = lr.fit(train_data)\n",
    "rf_model = rf.fit(train_data)"
   ]
  },
  {
   "cell_type": "markdown",
   "metadata": {},
   "source": [
    "# Avaliação dos modelos"
   ]
  },
  {
   "cell_type": "code",
   "execution_count": 9,
   "metadata": {},
   "outputs": [],
   "source": [
    "evaluator = RegressionEvaluator(labelCol=\"salario_mensal\", predictionCol=\"prediction\", metricName=\"rmse\")\n"
   ]
  },
  {
   "cell_type": "markdown",
   "metadata": {},
   "source": [
    "## Previsões e métricas para Linear Regression"
   ]
  },
  {
   "cell_type": "code",
   "execution_count": 10,
   "metadata": {},
   "outputs": [
    {
     "name": "stderr",
     "output_type": "stream",
     "text": [
      "[Stage 37:======================================================> (29 + 1) / 30]\r"
     ]
    },
    {
     "name": "stdout",
     "output_type": "stream",
     "text": [
      "Linear Regression - RMSE: 18029.23075821563, R2: 0.009639975007766699\n"
     ]
    },
    {
     "name": "stderr",
     "output_type": "stream",
     "text": [
      "                                                                                \r"
     ]
    }
   ],
   "source": [
    "lr_predictions = lr_model.transform(test_data)\n",
    "lr_rmse = evaluator.evaluate(lr_predictions)\n",
    "lr_r2 = evaluator.evaluate(lr_predictions, {evaluator.metricName: \"r2\"})\n",
    "print(f\"Linear Regression - RMSE: {lr_rmse}, R2: {lr_r2}\")\n"
   ]
  },
  {
   "cell_type": "markdown",
   "metadata": {},
   "source": [
    "## Previsões e métricas para Random Forest"
   ]
  },
  {
   "cell_type": "code",
   "execution_count": 11,
   "metadata": {},
   "outputs": [
    {
     "name": "stderr",
     "output_type": "stream",
     "text": [
      "[Stage 41:======================================================> (29 + 1) / 30]\r"
     ]
    },
    {
     "name": "stdout",
     "output_type": "stream",
     "text": [
      "Random Forest - RMSE: 17960.568764086354, R2: 0.017168927335120765\n"
     ]
    },
    {
     "name": "stderr",
     "output_type": "stream",
     "text": [
      "                                                                                \r"
     ]
    }
   ],
   "source": [
    "rf_predictions = rf_model.transform(test_data)\n",
    "rf_rmse = evaluator.evaluate(rf_predictions)\n",
    "rf_r2 = evaluator.evaluate(rf_predictions, {evaluator.metricName: \"r2\"})\n",
    "print(f\"Random Forest - RMSE: {rf_rmse}, R2: {rf_r2}\")"
   ]
  },
  {
   "cell_type": "code",
   "execution_count": 12,
   "metadata": {},
   "outputs": [
    {
     "name": "stdout",
     "output_type": "stream",
     "text": [
      "Random Forest performs better.\n"
     ]
    }
   ],
   "source": [
    "# Comparação dos modelos\n",
    "if lr_rmse < rf_rmse:\n",
    "    print(\"Linear Regression performs better.\")\n",
    "else:\n",
    "    print(\"Random Forest performs better.\")"
   ]
  },
  {
   "cell_type": "code",
   "execution_count": 13,
   "metadata": {},
   "outputs": [
    {
     "name": "stderr",
     "output_type": "stream",
     "text": [
      "[Stage 43:>                                                         (0 + 1) / 1]\r"
     ]
    },
    {
     "name": "stdout",
     "output_type": "stream",
     "text": [
      "+--------------------+--------------+-----------------+\n",
      "|            features|salario_mensal|       prediction|\n",
      "+--------------------+--------------+-----------------+\n",
      "|(1397,[0,1,2,3,4,...|       1478.08|2343.661923453783|\n",
      "|(1397,[0,1,2,3,4,...|       1625.42|2343.661923453783|\n",
      "|(1397,[0,1,2,3,4,...|        1548.0|2343.661923453783|\n",
      "|(1397,[0,1,2,3,4,...|        1684.0|2203.640768557899|\n",
      "|(1397,[0,1,2,3,4,...|        2656.0|2343.661923453783|\n",
      "|(1397,[0,1,2,3,4,...|        1094.4|2203.640768557899|\n",
      "|(1397,[0,1,2,3,4,...|         687.7|2203.640768557899|\n",
      "|(1397,[0,1,2,3,4,...|       1829.26|2203.640768557899|\n",
      "|(1397,[0,1,2,3,4,...|       1438.77|2203.640768557899|\n",
      "|(1397,[0,1,2,3,4,...|         826.5|2203.640768557899|\n",
      "|(1397,[0,1,2,3,4,...|       1024.69|2203.640768557899|\n",
      "|(1397,[0,1,2,3,4,...|       1736.07|2203.640768557899|\n",
      "|(1397,[0,1,2,3,4,...|        854.04|2203.640768557899|\n",
      "|(1397,[0,1,2,3,4,...|        1505.0|2203.640768557899|\n",
      "|(1397,[0,1,2,3,4,...|       1795.43|2203.640768557899|\n",
      "|(1397,[0,1,2,3,4,...|        1699.0|2203.640768557899|\n",
      "|(1397,[0,1,2,3,4,...|        1643.0|2203.640768557899|\n",
      "|(1397,[0,1,2,3,4,...|       1724.93|2203.640768557899|\n",
      "|(1397,[0,1,2,3,4,...|        1642.0|2203.640768557899|\n",
      "|(1397,[0,1,2,3,4,...|        1548.0|2224.794030720811|\n",
      "+--------------------+--------------+-----------------+\n",
      "only showing top 20 rows\n",
      "\n"
     ]
    },
    {
     "name": "stderr",
     "output_type": "stream",
     "text": [
      "                                                                                \r"
     ]
    }
   ],
   "source": [
    "# Mostrando as predições do modelo Random Forest\n",
    "rf_predictions.show()"
   ]
  },
  {
   "cell_type": "code",
   "execution_count": 14,
   "metadata": {},
   "outputs": [
    {
     "name": "stderr",
     "output_type": "stream",
     "text": [
      "[Stage 44:>                                                         (0 + 1) / 1]\r"
     ]
    },
    {
     "name": "stdout",
     "output_type": "stream",
     "text": [
      "+--------------------+--------------+------------------+\n",
      "|            features|salario_mensal|        prediction|\n",
      "+--------------------+--------------+------------------+\n",
      "|(1397,[0,1,2,3,4,...|       1478.08|2425.7851103078283|\n",
      "|(1397,[0,1,2,3,4,...|       1625.42| 2245.208198931563|\n",
      "|(1397,[0,1,2,3,4,...|        1548.0| 2387.002817376342|\n",
      "|(1397,[0,1,2,3,4,...|        1684.0|2017.3664147403906|\n",
      "|(1397,[0,1,2,3,4,...|        2656.0| 2442.750270074699|\n",
      "|(1397,[0,1,2,3,4,...|        1094.4|1852.0998232872516|\n",
      "|(1397,[0,1,2,3,4,...|         687.7|1705.8106683389342|\n",
      "|(1397,[0,1,2,3,4,...|       1829.26|2326.8412913057255|\n",
      "|(1397,[0,1,2,3,4,...|       1438.77|2105.2288837296073|\n",
      "|(1397,[0,1,2,3,4,...|         826.5|1824.8002702980884|\n",
      "|(1397,[0,1,2,3,4,...|       1024.69|1955.1121488005156|\n",
      "|(1397,[0,1,2,3,4,...|       1736.07|2128.8613201370754|\n",
      "|(1397,[0,1,2,3,4,...|        854.04|1848.4327067055565|\n",
      "|(1397,[0,1,2,3,4,...|        1505.0|2152.4937565445434|\n",
      "|(1397,[0,1,2,3,4,...|       1795.43|2152.4937565445434|\n",
      "|(1397,[0,1,2,3,4,...|        1699.0|2176.1261929519824|\n",
      "|(1397,[0,1,2,3,4,...|        1643.0| 2342.925397435116|\n",
      "|(1397,[0,1,2,3,4,...|       1724.93|2270.6559385818546|\n",
      "|(1397,[0,1,2,3,4,...|        1642.0|2341.5532478042296|\n",
      "|(1397,[0,1,2,3,4,...|        1548.0| 2364.751311283355|\n",
      "+--------------------+--------------+------------------+\n",
      "only showing top 20 rows\n",
      "\n"
     ]
    },
    {
     "name": "stderr",
     "output_type": "stream",
     "text": [
      "                                                                                \r"
     ]
    }
   ],
   "source": [
    "lr_predictions.show()"
   ]
  }
 ],
 "metadata": {
  "kernelspec": {
   "display_name": "Python 3",
   "language": "python",
   "name": "python3"
  },
  "language_info": {
   "codemirror_mode": {
    "name": "ipython",
    "version": 3
   },
   "file_extension": ".py",
   "mimetype": "text/x-python",
   "name": "python",
   "nbconvert_exporter": "python",
   "pygments_lexer": "ipython3",
   "version": "3.11.7"
  }
 },
 "nbformat": 4,
 "nbformat_minor": 2
}
