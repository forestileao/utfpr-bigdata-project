{
 "cells": [
  {
   "cell_type": "code",
   "execution_count": 1,
   "metadata": {},
   "outputs": [],
   "source": [
    "from pyspark.sql import SparkSession\n",
    "from pyspark.ml.feature import StringIndexer, OneHotEncoder, VectorAssembler\n",
    "from pyspark.ml.regression import LinearRegression, RandomForestRegressor\n",
    "from pyspark.ml.evaluation import RegressionEvaluator\n"
   ]
  },
  {
   "cell_type": "code",
   "execution_count": 2,
   "metadata": {},
   "outputs": [
    {
     "name": "stderr",
     "output_type": "stream",
     "text": [
      "Setting default log level to \"WARN\".\n",
      "To adjust logging level use sc.setLogLevel(newLevel). For SparkR, use setLogLevel(newLevel).\n",
      "24/06/17 00:48:59 WARN NativeCodeLoader: Unable to load native-hadoop library for your platform... using builtin-java classes where applicable\n",
      "                                                                                \r"
     ]
    }
   ],
   "source": [
    "spark = SparkSession.builder.appName(\"SalaryPrediction\").getOrCreate()\n",
    "data = spark.read.csv(\"dados_caged_2022_parsed.csv\", header=True, inferSchema=True)\n",
    "# Removendo registros com valores nulos\n",
    "data = data.na.drop()\n"
   ]
  },
  {
   "cell_type": "markdown",
   "metadata": {},
   "source": [
    "# Feature Engineering e Transformações"
   ]
  },
  {
   "cell_type": "code",
   "execution_count": 3,
   "metadata": {},
   "outputs": [],
   "source": [
    "categorical_values = [\"uf\", \"cnae_2_secao\", \"cnae_2_subclasse\", \"sexo\", \"grau_de_instrucao\"]\n",
    "\n",
    "indexers = [StringIndexer(inputCol=column, outputCol=column+\"_index\") for column in categorical_values]\n",
    "encoders = [OneHotEncoder(inputCol=column+\"_index\", outputCol=column+\"_vec\") for column in categorical_values]\n",
    "assembler = VectorAssembler(inputCols=[\"horas_contratuais\", \"idade\"] + [column+\"_vec\" for column in categorical_values], outputCol=\"features\")"
   ]
  },
  {
   "cell_type": "markdown",
   "metadata": {},
   "source": [
    "# Pipeline de transformação"
   ]
  },
  {
   "cell_type": "code",
   "execution_count": 4,
   "metadata": {},
   "outputs": [],
   "source": [
    "from pyspark.ml import Pipeline\n",
    "pipeline = Pipeline(stages=indexers + encoders + [assembler])"
   ]
  },
  {
   "cell_type": "code",
   "execution_count": 5,
   "metadata": {},
   "outputs": [
    {
     "name": "stderr",
     "output_type": "stream",
     "text": [
      "                                                                                \r"
     ]
    }
   ],
   "source": [
    "data = pipeline.fit(data).transform(data)\n",
    "data = data.select(\"features\", \"salario_mensal\")\n"
   ]
  },
  {
   "cell_type": "markdown",
   "metadata": {},
   "source": [
    "# Treinamento dos modelos"
   ]
  },
  {
   "cell_type": "code",
   "execution_count": 6,
   "metadata": {},
   "outputs": [
    {
     "name": "stderr",
     "output_type": "stream",
     "text": [
      "24/06/17 00:55:03 WARN InstanceBuilder: Failed to load implementation from:dev.ludovic.netlib.blas.JNIBLAS\n",
      "24/06/17 00:55:03 WARN InstanceBuilder: Failed to load implementation from:dev.ludovic.netlib.blas.VectorBLAS\n",
      "24/06/17 00:57:39 WARN InstanceBuilder: Failed to load implementation from:dev.ludovic.netlib.lapack.JNILAPACK\n",
      "                                                                                \r"
     ]
    }
   ],
   "source": [
    "train_data, test_data = data.randomSplit([0.8, 0.2], seed=42)\n",
    "\n",
    "lr = LinearRegression(labelCol=\"salario_mensal\", featuresCol=\"features\", regParam=0.1)\n",
    "lr_model = lr.fit(train_data)"
   ]
  },
  {
   "cell_type": "code",
   "execution_count": 7,
   "metadata": {},
   "outputs": [
    {
     "name": "stderr",
     "output_type": "stream",
     "text": [
      "24/06/17 01:08:08 WARN MemoryStore: Not enough space to cache rdd_94_3 in memory! (computed 74.5 MiB so far)\n",
      "24/06/17 01:08:08 WARN BlockManager: Persisting block rdd_94_3 to disk instead.\n",
      "24/06/17 01:08:08 WARN MemoryStore: Not enough space to cache rdd_94_7 in memory! (computed 30.3 MiB so far)\n",
      "24/06/17 01:08:08 WARN BlockManager: Persisting block rdd_94_7 to disk instead.\n",
      "24/06/17 01:08:08 WARN MemoryStore: Not enough space to cache rdd_94_5 in memory! (computed 111.9 MiB so far)\n",
      "24/06/17 01:08:08 WARN BlockManager: Persisting block rdd_94_5 to disk instead.\n",
      "24/06/17 01:08:08 WARN MemoryStore: Not enough space to cache rdd_94_2 in memory! (computed 5.8 MiB so far)\n",
      "24/06/17 01:08:08 WARN BlockManager: Persisting block rdd_94_2 to disk instead.\n",
      "24/06/17 01:08:08 WARN MemoryStore: Not enough space to cache rdd_94_0 in memory! (computed 3.7 MiB so far)\n",
      "24/06/17 01:08:08 WARN BlockManager: Persisting block rdd_94_0 to disk instead.\n",
      "24/06/17 01:08:08 WARN MemoryStore: Not enough space to cache rdd_94_1 in memory! (computed 111.9 MiB so far)\n",
      "24/06/17 01:08:08 WARN BlockManager: Persisting block rdd_94_1 to disk instead.\n",
      "24/06/17 01:08:10 WARN MemoryStore: Not enough space to cache rdd_94_6 in memory! (computed 168.2 MiB so far)\n",
      "24/06/17 01:08:10 WARN BlockManager: Persisting block rdd_94_6 to disk instead.\n",
      "24/06/17 01:08:10 WARN MemoryStore: Not enough space to cache rdd_94_4 in memory! (computed 168.2 MiB so far)\n",
      "24/06/17 01:08:10 WARN BlockManager: Persisting block rdd_94_4 to disk instead.\n",
      "24/06/17 01:09:29 WARN MemoryStore: Not enough space to cache rdd_94_5 in memory! (computed 111.9 MiB so far)\n",
      "24/06/17 01:09:29 WARN MemoryStore: Not enough space to cache rdd_94_3 in memory! (computed 253.5 MiB so far)\n",
      "24/06/17 01:09:31 WARN MemoryStore: Not enough space to cache rdd_94_2 in memory! (computed 13.3 MiB so far)\n",
      "24/06/17 01:09:31 WARN MemoryStore: Not enough space to cache rdd_94_6 in memory! (computed 13.3 MiB so far)\n",
      "24/06/17 01:09:31 WARN MemoryStore: Not enough space to cache rdd_94_0 in memory! (computed 49.6 MiB so far)\n",
      "24/06/17 01:09:31 WARN MemoryStore: Not enough space to cache rdd_94_7 in memory! (computed 8.8 MiB so far)\n",
      "24/06/17 01:09:32 WARN MemoryStore: Not enough space to cache rdd_94_1 in memory! (computed 74.5 MiB so far)\n",
      "24/06/17 01:09:32 WARN MemoryStore: Not enough space to cache rdd_94_4 in memory! (computed 74.5 MiB so far)\n",
      "24/06/17 01:14:07 WARN MemoryStore: Not enough space to cache rdd_94_8 in memory! (computed 168.2 MiB so far)\n",
      "24/06/17 01:14:07 WARN BlockManager: Persisting block rdd_94_8 to disk instead.\n",
      "24/06/17 01:14:20 WARN MemoryStore: Not enough space to cache rdd_94_10 in memory! (computed 30.3 MiB so far)\n",
      "24/06/17 01:14:20 WARN BlockManager: Persisting block rdd_94_10 to disk instead.\n",
      "24/06/17 01:14:20 WARN MemoryStore: Not enough space to cache rdd_94_9 in memory! (computed 168.2 MiB so far)\n",
      "24/06/17 01:14:20 WARN BlockManager: Persisting block rdd_94_9 to disk instead.\n",
      "24/06/17 01:14:25 WARN MemoryStore: Not enough space to cache rdd_94_11 in memory! (computed 74.5 MiB so far)\n",
      "24/06/17 01:14:25 WARN BlockManager: Persisting block rdd_94_11 to disk instead.\n",
      "24/06/17 01:14:28 WARN MemoryStore: Not enough space to cache rdd_94_12 in memory! (computed 168.2 MiB so far)\n",
      "24/06/17 01:14:28 WARN BlockManager: Persisting block rdd_94_12 to disk instead.\n",
      "24/06/17 01:14:46 WARN MemoryStore: Not enough space to cache rdd_94_13 in memory! (computed 168.2 MiB so far)\n",
      "24/06/17 01:14:46 WARN BlockManager: Persisting block rdd_94_13 to disk instead.\n",
      "24/06/17 01:14:49 WARN MemoryStore: Not enough space to cache rdd_94_14 in memory! (computed 168.2 MiB so far)\n",
      "24/06/17 01:14:49 WARN BlockManager: Persisting block rdd_94_14 to disk instead.\n",
      "24/06/17 01:14:53 WARN MemoryStore: Not enough space to cache rdd_94_15 in memory! (computed 168.2 MiB so far)\n",
      "24/06/17 01:14:53 WARN BlockManager: Persisting block rdd_94_15 to disk instead.\n",
      "24/06/17 01:15:31 WARN MemoryStore: Not enough space to cache rdd_94_8 in memory! (computed 168.2 MiB so far)\n",
      "24/06/17 01:15:42 WARN MemoryStore: Not enough space to cache rdd_94_10 in memory! (computed 168.2 MiB so far)\n",
      "24/06/17 01:15:42 WARN MemoryStore: Not enough space to cache rdd_94_9 in memory! (computed 111.9 MiB so far)\n",
      "24/06/17 01:15:47 WARN MemoryStore: Not enough space to cache rdd_94_12 in memory! (computed 253.5 MiB so far)\n",
      "24/06/17 01:15:47 WARN MemoryStore: Not enough space to cache rdd_94_11 in memory! (computed 74.5 MiB so far)\n",
      "24/06/17 01:16:12 WARN MemoryStore: Not enough space to cache rdd_94_13 in memory! (computed 168.2 MiB so far)\n",
      "24/06/17 01:16:12 WARN MemoryStore: Not enough space to cache rdd_94_14 in memory! (computed 168.2 MiB so far)\n",
      "24/06/17 01:16:23 WARN MemoryStore: Not enough space to cache rdd_94_15 in memory! (computed 398.5 MiB so far)\n",
      "24/06/17 01:20:19 WARN MemoryStore: Not enough space to cache rdd_94_16 in memory! (computed 74.5 MiB so far)\n",
      "24/06/17 01:20:19 WARN BlockManager: Persisting block rdd_94_16 to disk instead.\n",
      "24/06/17 01:20:21 WARN MemoryStore: Not enough space to cache rdd_94_17 in memory! (computed 168.2 MiB so far)\n",
      "24/06/17 01:20:21 WARN BlockManager: Persisting block rdd_94_17 to disk instead.\n",
      "24/06/17 01:20:25 WARN MemoryStore: Not enough space to cache rdd_94_18 in memory! (computed 168.2 MiB so far)\n",
      "24/06/17 01:20:25 WARN BlockManager: Persisting block rdd_94_18 to disk instead.\n",
      "24/06/17 01:20:32 WARN MemoryStore: Not enough space to cache rdd_94_19 in memory! (computed 111.9 MiB so far)\n",
      "24/06/17 01:20:32 WARN BlockManager: Persisting block rdd_94_19 to disk instead.\n",
      "24/06/17 01:20:35 WARN MemoryStore: Not enough space to cache rdd_94_20 in memory! (computed 168.2 MiB so far)\n",
      "24/06/17 01:20:35 WARN BlockManager: Persisting block rdd_94_20 to disk instead.\n",
      "24/06/17 01:20:49 WARN MemoryStore: Not enough space to cache rdd_94_21 in memory! (computed 168.2 MiB so far)\n",
      "24/06/17 01:20:49 WARN BlockManager: Persisting block rdd_94_21 to disk instead.\n",
      "24/06/17 01:20:58 WARN MemoryStore: Not enough space to cache rdd_94_22 in memory! (computed 253.5 MiB so far)\n",
      "24/06/17 01:20:58 WARN BlockManager: Persisting block rdd_94_22 to disk instead.\n",
      "24/06/17 01:21:06 WARN MemoryStore: Not enough space to cache rdd_94_23 in memory! (computed 253.5 MiB so far)\n",
      "24/06/17 01:21:06 WARN BlockManager: Persisting block rdd_94_23 to disk instead.\n",
      "24/06/17 01:21:42 WARN MemoryStore: Not enough space to cache rdd_94_16 in memory! (computed 253.5 MiB so far)\n",
      "24/06/17 01:21:43 WARN MemoryStore: Not enough space to cache rdd_94_17 in memory! (computed 74.5 MiB so far)\n",
      "24/06/17 01:21:45 WARN MemoryStore: Not enough space to cache rdd_94_18 in memory! (computed 74.5 MiB so far)\n",
      "24/06/17 01:21:54 WARN MemoryStore: Not enough space to cache rdd_94_19 in memory! (computed 398.5 MiB so far)\n",
      "24/06/17 01:21:55 WARN MemoryStore: Not enough space to cache rdd_94_20 in memory! (computed 30.3 MiB so far)\n",
      "24/06/17 01:22:13 WARN MemoryStore: Not enough space to cache rdd_94_21 in memory! (computed 398.5 MiB so far)\n",
      "24/06/17 01:22:22 WARN MemoryStore: Not enough space to cache rdd_94_22 in memory! (computed 398.5 MiB so far)\n",
      "24/06/17 01:22:31 WARN MemoryStore: Not enough space to cache rdd_94_23 in memory! (computed 49.6 MiB so far)\n",
      "24/06/17 01:26:03 WARN MemoryStore: Not enough space to cache rdd_94_24 in memory! (computed 111.9 MiB so far)\n",
      "24/06/17 01:26:03 WARN BlockManager: Persisting block rdd_94_24 to disk instead.\n",
      "24/06/17 01:26:10 WARN MemoryStore: Not enough space to cache rdd_94_25 in memory! (computed 168.2 MiB so far)\n",
      "24/06/17 01:26:10 WARN BlockManager: Persisting block rdd_94_25 to disk instead.\n",
      "24/06/17 01:26:14 WARN MemoryStore: Not enough space to cache rdd_94_26 in memory! (computed 168.2 MiB so far)\n",
      "24/06/17 01:26:14 WARN BlockManager: Persisting block rdd_94_26 to disk instead.\n",
      "24/06/17 01:26:21 WARN MemoryStore: Not enough space to cache rdd_94_29 in memory! (computed 168.2 MiB so far)\n",
      "24/06/17 01:26:21 WARN BlockManager: Persisting block rdd_94_29 to disk instead.\n",
      "24/06/17 01:26:25 WARN MemoryStore: Not enough space to cache rdd_94_27 in memory! (computed 111.9 MiB so far)\n",
      "24/06/17 01:26:25 WARN BlockManager: Persisting block rdd_94_27 to disk instead.\n",
      "24/06/17 01:26:29 WARN MemoryStore: Not enough space to cache rdd_94_28 in memory! (computed 168.2 MiB so far)\n",
      "24/06/17 01:26:29 WARN BlockManager: Persisting block rdd_94_28 to disk instead.\n",
      "24/06/17 01:27:00 WARN MemoryStore: Not enough space to cache rdd_94_29 in memory! (computed 168.2 MiB so far)\n",
      "24/06/17 01:27:09 WARN MemoryStore: Not enough space to cache rdd_94_24 in memory! (computed 253.5 MiB so far)\n",
      "24/06/17 01:27:14 WARN MemoryStore: Not enough space to cache rdd_94_25 in memory! (computed 253.5 MiB so far)\n",
      "24/06/17 01:27:19 WARN MemoryStore: Not enough space to cache rdd_94_26 in memory! (computed 253.5 MiB so far)\n",
      "24/06/17 01:27:28 WARN MemoryStore: Not enough space to cache rdd_94_27 in memory! (computed 398.5 MiB so far)\n",
      "24/06/17 01:27:35 WARN MemoryStore: Not enough space to cache rdd_94_28 in memory! (computed 398.5 MiB so far)\n",
      "24/06/17 01:29:37 WARN MemoryStore: Not enough space to cache rdd_94_2 in memory! (computed 49.6 MiB so far)\n",
      "24/06/17 01:29:37 WARN MemoryStore: Not enough space to cache rdd_94_6 in memory! (computed 49.6 MiB so far)\n",
      "24/06/17 01:29:37 WARN MemoryStore: Not enough space to cache rdd_94_0 in memory! (computed 49.6 MiB so far)\n",
      "24/06/17 01:29:37 WARN MemoryStore: Not enough space to cache rdd_94_3 in memory! (computed 49.6 MiB so far)\n",
      "24/06/17 01:29:37 WARN MemoryStore: Not enough space to cache rdd_94_5 in memory! (computed 49.6 MiB so far)\n",
      "24/06/17 01:29:37 WARN MemoryStore: Not enough space to cache rdd_94_7 in memory! (computed 49.6 MiB so far)\n",
      "24/06/17 01:29:37 WARN MemoryStore: Not enough space to cache rdd_94_4 in memory! (computed 74.5 MiB so far)\n",
      "24/06/17 01:29:37 WARN MemoryStore: Not enough space to cache rdd_94_1 in memory! (computed 74.5 MiB so far)\n",
      "24/06/17 01:34:33 WARN MemoryStore: Not enough space to cache rdd_94_8 in memory! (computed 398.5 MiB so far)\n",
      "24/06/17 01:34:36 WARN MemoryStore: Not enough space to cache rdd_94_9 in memory! (computed 49.6 MiB so far)\n",
      "24/06/17 01:34:40 WARN MemoryStore: Not enough space to cache rdd_94_10 in memory! (computed 49.6 MiB so far)\n",
      "24/06/17 01:34:52 WARN MemoryStore: Not enough space to cache rdd_94_11 in memory! (computed 398.5 MiB so far)\n",
      "24/06/17 01:35:08 WARN MemoryStore: Not enough space to cache rdd_94_12 in memory! (computed 398.5 MiB so far)\n",
      "24/06/17 01:35:15 WARN MemoryStore: Not enough space to cache rdd_94_13 in memory! (computed 49.6 MiB so far)\n",
      "24/06/17 01:36:15 WARN MemoryStore: Not enough space to cache rdd_94_14 in memory! (computed 398.5 MiB so far)\n",
      "24/06/17 01:36:16 WARN MemoryStore: Not enough space to cache rdd_94_15 in memory! (computed 49.6 MiB so far)\n",
      "24/06/17 01:39:13 WARN MemoryStore: Not enough space to cache rdd_94_16 in memory! (computed 398.5 MiB so far)\n",
      "24/06/17 01:40:07 WARN MemoryStore: Not enough space to cache rdd_94_17 in memory! (computed 398.5 MiB so far)\n",
      "24/06/17 01:40:17 WARN MemoryStore: Not enough space to cache rdd_94_18 in memory! (computed 49.6 MiB so far)\n",
      "24/06/17 01:40:22 WARN MemoryStore: Not enough space to cache rdd_94_19 in memory! (computed 49.6 MiB so far)\n",
      "24/06/17 01:40:29 WARN MemoryStore: Not enough space to cache rdd_94_20 in memory! (computed 398.5 MiB so far)\n",
      "24/06/17 01:41:26 WARN MemoryStore: Not enough space to cache rdd_94_21 in memory! (computed 398.5 MiB so far)\n",
      "24/06/17 01:41:36 WARN MemoryStore: Not enough space to cache rdd_94_22 in memory! (computed 49.6 MiB so far)\n",
      "24/06/17 01:42:31 WARN MemoryStore: Not enough space to cache rdd_94_23 in memory! (computed 398.5 MiB so far)\n",
      "24/06/17 01:44:46 WARN MemoryStore: Not enough space to cache rdd_94_25 in memory! (computed 49.6 MiB so far)\n",
      "24/06/17 01:44:47 WARN MemoryStore: Not enough space to cache rdd_94_24 in memory! (computed 398.5 MiB so far)\n",
      "24/06/17 01:44:52 WARN MemoryStore: Not enough space to cache rdd_94_26 in memory! (computed 49.6 MiB so far)\n",
      "24/06/17 01:45:24 WARN MemoryStore: Not enough space to cache rdd_94_27 in memory! (computed 398.5 MiB so far)\n",
      "24/06/17 01:46:01 WARN MemoryStore: Not enough space to cache rdd_94_28 in memory! (computed 398.5 MiB so far)\n",
      "24/06/17 01:46:32 WARN MemoryStore: Not enough space to cache rdd_94_29 in memory! (computed 398.5 MiB so far)\n",
      "24/06/17 01:48:54 WARN MemoryStore: Not enough space to cache rdd_94_0 in memory! (computed 49.6 MiB so far)\n",
      "24/06/17 01:48:54 WARN MemoryStore: Not enough space to cache rdd_94_6 in memory! (computed 49.6 MiB so far)\n",
      "24/06/17 01:48:54 WARN MemoryStore: Not enough space to cache rdd_94_4 in memory! (computed 49.6 MiB so far)\n",
      "24/06/17 01:48:54 WARN MemoryStore: Not enough space to cache rdd_94_2 in memory! (computed 49.6 MiB so far)\n",
      "24/06/17 01:48:54 WARN MemoryStore: Not enough space to cache rdd_94_5 in memory! (computed 49.6 MiB so far)\n",
      "24/06/17 01:48:54 WARN MemoryStore: Not enough space to cache rdd_94_7 in memory! (computed 49.6 MiB so far)\n",
      "24/06/17 01:48:54 WARN MemoryStore: Not enough space to cache rdd_94_3 in memory! (computed 74.5 MiB so far)\n",
      "24/06/17 01:48:54 WARN MemoryStore: Not enough space to cache rdd_94_1 in memory! (computed 74.5 MiB so far)\n",
      "24/06/17 01:54:08 WARN MemoryStore: Not enough space to cache rdd_94_8 in memory! (computed 398.5 MiB so far)\n",
      "24/06/17 01:54:22 WARN MemoryStore: Not enough space to cache rdd_94_9 in memory! (computed 398.5 MiB so far)\n",
      "24/06/17 01:54:26 WARN MemoryStore: Not enough space to cache rdd_94_10 in memory! (computed 49.6 MiB so far)\n",
      "24/06/17 01:54:40 WARN MemoryStore: Not enough space to cache rdd_94_11 in memory! (computed 253.5 MiB so far)\n",
      "24/06/17 01:54:41 WARN MemoryStore: Not enough space to cache rdd_94_12 in memory! (computed 168.2 MiB so far)\n",
      "24/06/17 01:55:56 WARN MemoryStore: Not enough space to cache rdd_94_13 in memory! (computed 398.5 MiB so far)\n",
      "24/06/17 01:55:59 WARN MemoryStore: Not enough space to cache rdd_94_14 in memory! (computed 49.6 MiB so far)\n",
      "24/06/17 01:56:16 WARN MemoryStore: Not enough space to cache rdd_94_15 in memory! (computed 398.5 MiB so far)\n",
      "24/06/17 01:59:36 WARN MemoryStore: Not enough space to cache rdd_94_16 in memory! (computed 398.5 MiB so far)\n",
      "24/06/17 02:00:14 WARN MemoryStore: Not enough space to cache rdd_94_17 in memory! (computed 398.5 MiB so far)\n",
      "24/06/17 02:00:18 WARN MemoryStore: Not enough space to cache rdd_94_18 in memory! (computed 49.6 MiB so far)\n",
      "24/06/17 02:00:45 WARN MemoryStore: Not enough space to cache rdd_94_19 in memory! (computed 398.5 MiB so far)\n",
      "24/06/17 02:01:17 WARN MemoryStore: Not enough space to cache rdd_94_21 in memory! (computed 49.6 MiB so far)\n",
      "24/06/17 02:01:17 WARN MemoryStore: Not enough space to cache rdd_94_20 in memory! (computed 398.5 MiB so far)\n",
      "24/06/17 02:01:39 WARN MemoryStore: Not enough space to cache rdd_94_22 in memory! (computed 398.5 MiB so far)\n",
      "24/06/17 02:01:46 WARN MemoryStore: Not enough space to cache rdd_94_23 in memory! (computed 49.6 MiB so far)\n",
      "24/06/17 02:05:52 WARN MemoryStore: Not enough space to cache rdd_94_24 in memory! (computed 398.5 MiB so far)\n",
      "24/06/17 02:05:55 WARN MemoryStore: Not enough space to cache rdd_94_25 in memory! (computed 49.6 MiB so far)\n",
      "24/06/17 02:06:45 WARN MemoryStore: Not enough space to cache rdd_94_26 in memory! (computed 398.5 MiB so far)\n",
      "24/06/17 02:06:56 WARN MemoryStore: Not enough space to cache rdd_94_27 in memory! (computed 49.6 MiB so far)\n",
      "24/06/17 02:07:00 WARN MemoryStore: Not enough space to cache rdd_94_28 in memory! (computed 398.5 MiB so far)\n",
      "24/06/17 02:07:10 WARN MemoryStore: Not enough space to cache rdd_94_29 in memory! (computed 49.6 MiB so far)\n",
      "24/06/17 02:10:03 WARN MemoryStore: Not enough space to cache rdd_94_3 in memory! (computed 49.6 MiB so far)\n",
      "24/06/17 02:10:03 WARN MemoryStore: Not enough space to cache rdd_94_4 in memory! (computed 49.6 MiB so far)\n",
      "24/06/17 02:10:03 WARN MemoryStore: Not enough space to cache rdd_94_1 in memory! (computed 49.6 MiB so far)\n",
      "24/06/17 02:10:03 WARN MemoryStore: Not enough space to cache rdd_94_6 in memory! (computed 49.6 MiB so far)\n",
      "24/06/17 02:10:03 WARN MemoryStore: Not enough space to cache rdd_94_7 in memory! (computed 49.6 MiB so far)\n",
      "24/06/17 02:10:03 WARN MemoryStore: Not enough space to cache rdd_94_0 in memory! (computed 49.6 MiB so far)\n",
      "24/06/17 02:10:03 WARN MemoryStore: Not enough space to cache rdd_94_2 in memory! (computed 74.5 MiB so far)\n",
      "24/06/17 02:10:03 WARN MemoryStore: Not enough space to cache rdd_94_5 in memory! (computed 74.5 MiB so far)\n",
      "24/06/17 02:15:32 WARN MemoryStore: Not enough space to cache rdd_94_8 in memory! (computed 398.5 MiB so far)\n",
      "24/06/17 02:15:39 WARN MemoryStore: Not enough space to cache rdd_94_9 in memory! (computed 49.6 MiB so far)\n",
      "24/06/17 02:15:43 WARN MemoryStore: Not enough space to cache rdd_94_10 in memory! (computed 49.6 MiB so far)\n",
      "24/06/17 02:16:38 WARN MemoryStore: Not enough space to cache rdd_94_11 in memory! (computed 398.5 MiB so far)\n",
      "24/06/17 02:16:46 WARN MemoryStore: Not enough space to cache rdd_94_12 in memory! (computed 49.6 MiB so far)\n",
      "24/06/17 02:17:00 WARN MemoryStore: Not enough space to cache rdd_94_13 in memory! (computed 398.5 MiB so far)\n",
      "24/06/17 02:17:24 WARN MemoryStore: Not enough space to cache rdd_94_14 in memory! (computed 398.5 MiB so far)\n",
      "24/06/17 02:17:31 WARN MemoryStore: Not enough space to cache rdd_94_15 in memory! (computed 49.6 MiB so far)\n",
      "24/06/17 02:22:00 WARN MemoryStore: Not enough space to cache rdd_94_16 in memory! (computed 398.5 MiB so far)\n",
      "24/06/17 02:22:03 WARN MemoryStore: Not enough space to cache rdd_94_17 in memory! (computed 49.6 MiB so far)\n",
      "24/06/17 02:22:22 WARN MemoryStore: Not enough space to cache rdd_94_18 in memory! (computed 398.5 MiB so far)\n",
      "24/06/17 02:22:54 WARN MemoryStore: Not enough space to cache rdd_94_19 in memory! (computed 398.5 MiB so far)\n",
      "24/06/17 02:23:17 WARN MemoryStore: Not enough space to cache rdd_94_20 in memory! (computed 398.5 MiB so far)\n",
      "24/06/17 02:23:29 WARN MemoryStore: Not enough space to cache rdd_94_21 in memory! (computed 49.6 MiB so far)\n",
      "24/06/17 02:23:45 WARN MemoryStore: Not enough space to cache rdd_94_22 in memory! (computed 398.5 MiB so far)\n",
      "24/06/17 02:24:02 WARN MemoryStore: Not enough space to cache rdd_94_23 in memory! (computed 49.6 MiB so far)\n",
      "24/06/17 02:28:34 WARN MemoryStore: Not enough space to cache rdd_94_24 in memory! (computed 398.5 MiB so far)\n",
      "24/06/17 02:28:49 WARN MemoryStore: Not enough space to cache rdd_94_25 in memory! (computed 49.6 MiB so far)\n",
      "24/06/17 02:29:19 WARN MemoryStore: Not enough space to cache rdd_94_26 in memory! (computed 398.5 MiB so far)\n",
      "24/06/17 02:29:28 WARN MemoryStore: Not enough space to cache rdd_94_27 in memory! (computed 49.6 MiB so far)\n",
      "24/06/17 02:29:46 WARN MemoryStore: Not enough space to cache rdd_94_28 in memory! (computed 398.5 MiB so far)\n",
      "24/06/17 02:30:34 WARN MemoryStore: Not enough space to cache rdd_94_29 in memory! (computed 398.5 MiB so far)\n",
      "24/06/17 02:33:30 WARN MemoryStore: Not enough space to cache rdd_94_3 in memory! (computed 49.6 MiB so far)\n",
      "24/06/17 02:33:30 WARN MemoryStore: Not enough space to cache rdd_94_4 in memory! (computed 49.6 MiB so far)\n",
      "24/06/17 02:33:30 WARN MemoryStore: Not enough space to cache rdd_94_1 in memory! (computed 49.6 MiB so far)\n",
      "24/06/17 02:33:30 WARN MemoryStore: Not enough space to cache rdd_94_5 in memory! (computed 49.6 MiB so far)\n",
      "24/06/17 02:33:30 WARN MemoryStore: Not enough space to cache rdd_94_7 in memory! (computed 49.6 MiB so far)\n",
      "24/06/17 02:33:30 WARN MemoryStore: Not enough space to cache rdd_94_2 in memory! (computed 49.6 MiB so far)\n",
      "24/06/17 02:33:30 WARN MemoryStore: Not enough space to cache rdd_94_6 in memory! (computed 74.5 MiB so far)\n",
      "24/06/17 02:33:30 WARN MemoryStore: Not enough space to cache rdd_94_0 in memory! (computed 74.5 MiB so far)\n",
      "24/06/17 02:40:11 WARN MemoryStore: Not enough space to cache rdd_94_8 in memory! (computed 398.5 MiB so far)\n",
      "24/06/17 02:40:16 WARN MemoryStore: Not enough space to cache rdd_94_9 in memory! (computed 49.6 MiB so far)\n",
      "24/06/17 02:40:37 WARN MemoryStore: Not enough space to cache rdd_94_10 in memory! (computed 398.5 MiB so far)\n",
      "24/06/17 02:40:43 WARN MemoryStore: Not enough space to cache rdd_94_11 in memory! (computed 30.3 MiB so far)\n",
      "24/06/17 02:40:43 WARN MemoryStore: Not enough space to cache rdd_94_12 in memory! (computed 20.1 MiB so far)\n",
      "24/06/17 02:40:49 WARN MemoryStore: Not enough space to cache rdd_94_13 in memory! (computed 49.6 MiB so far)\n",
      "24/06/17 02:40:56 WARN MemoryStore: Not enough space to cache rdd_94_14 in memory! (computed 49.6 MiB so far)\n",
      "24/06/17 02:41:13 WARN MemoryStore: Not enough space to cache rdd_94_15 in memory! (computed 398.5 MiB so far)\n",
      "24/06/17 02:46:43 WARN MemoryStore: Not enough space to cache rdd_94_16 in memory! (computed 398.5 MiB so far)\n",
      "24/06/17 02:47:06 WARN MemoryStore: Not enough space to cache rdd_94_17 in memory! (computed 398.5 MiB so far)\n",
      "24/06/17 02:47:15 WARN MemoryStore: Not enough space to cache rdd_94_18 in memory! (computed 49.6 MiB so far)\n",
      "24/06/17 02:47:16 WARN MemoryStore: Not enough space to cache rdd_94_19 in memory! (computed 5.8 MiB so far)\n",
      "24/06/17 02:47:24 WARN MemoryStore: Not enough space to cache rdd_94_20 in memory! (computed 49.6 MiB so far)\n",
      "24/06/17 02:47:52 WARN MemoryStore: Not enough space to cache rdd_94_21 in memory! (computed 398.5 MiB so far)\n",
      "24/06/17 02:48:31 WARN MemoryStore: Not enough space to cache rdd_94_22 in memory! (computed 398.5 MiB so far)\n",
      "24/06/17 02:49:07 WARN MemoryStore: Not enough space to cache rdd_94_23 in memory! (computed 398.5 MiB so far)\n",
      "24/06/17 02:52:45 WARN MemoryStore: Not enough space to cache rdd_94_24 in memory! (computed 398.5 MiB so far)\n",
      "24/06/17 02:53:50 WARN MemoryStore: Not enough space to cache rdd_94_25 in memory! (computed 398.5 MiB so far)\n",
      "24/06/17 02:54:08 WARN MemoryStore: Not enough space to cache rdd_94_26 in memory! (computed 398.5 MiB so far)\n",
      "24/06/17 02:54:14 WARN MemoryStore: Not enough space to cache rdd_94_27 in memory! (computed 49.6 MiB so far)\n",
      "24/06/17 02:54:29 WARN MemoryStore: Not enough space to cache rdd_94_28 in memory! (computed 398.5 MiB so far)\n",
      "24/06/17 02:54:38 WARN MemoryStore: Not enough space to cache rdd_94_29 in memory! (computed 49.6 MiB so far)\n",
      "                                                                                \r"
     ]
    }
   ],
   "source": [
    "rf = RandomForestRegressor(labelCol=\"salario_mensal\", featuresCol=\"features\")\n",
    "rf_model = rf.fit(train_data)"
   ]
  },
  {
   "cell_type": "markdown",
   "metadata": {},
   "source": [
    "# Avaliação dos modelos"
   ]
  },
  {
   "cell_type": "code",
   "execution_count": 8,
   "metadata": {},
   "outputs": [],
   "source": [
    "evaluator = RegressionEvaluator(labelCol=\"salario_mensal\", predictionCol=\"prediction\", metricName=\"rmse\")\n"
   ]
  },
  {
   "cell_type": "markdown",
   "metadata": {},
   "source": [
    "## Previsões e métricas para Linear Regression"
   ]
  },
  {
   "cell_type": "code",
   "execution_count": 9,
   "metadata": {},
   "outputs": [
    {
     "name": "stderr",
     "output_type": "stream",
     "text": [
      "[Stage 37:====================================================>   (28 + 2) / 30]\r"
     ]
    },
    {
     "name": "stdout",
     "output_type": "stream",
     "text": [
      "Linear Regression - RMSE: 18712.84732039367, R2: 0.009406203320376894\n"
     ]
    },
    {
     "name": "stderr",
     "output_type": "stream",
     "text": [
      "                                                                                \r"
     ]
    }
   ],
   "source": [
    "lr_predictions = lr_model.transform(test_data)\n",
    "lr_rmse = evaluator.evaluate(lr_predictions)\n",
    "lr_r2 = evaluator.evaluate(lr_predictions, {evaluator.metricName: \"r2\"})\n",
    "print(f\"Linear Regression - RMSE: {lr_rmse}, R2: {lr_r2}\")\n"
   ]
  },
  {
   "cell_type": "markdown",
   "metadata": {},
   "source": [
    "## Previsões e métricas para Random Forest"
   ]
  },
  {
   "cell_type": "code",
   "execution_count": 10,
   "metadata": {},
   "outputs": [
    {
     "name": "stderr",
     "output_type": "stream",
     "text": [
      "[Stage 41:====================================================>   (28 + 2) / 30]\r"
     ]
    },
    {
     "name": "stdout",
     "output_type": "stream",
     "text": [
      "Random Forest - RMSE: 18673.99822915848, R2: 0.013515008444804688\n"
     ]
    },
    {
     "name": "stderr",
     "output_type": "stream",
     "text": [
      "                                                                                \r"
     ]
    }
   ],
   "source": [
    "rf_predictions = rf_model.transform(test_data)\n",
    "rf_rmse = evaluator.evaluate(rf_predictions)\n",
    "rf_r2 = evaluator.evaluate(rf_predictions, {evaluator.metricName: \"r2\"})\n",
    "print(f\"Random Forest - RMSE: {rf_rmse}, R2: {rf_r2}\")"
   ]
  },
  {
   "cell_type": "code",
   "execution_count": 11,
   "metadata": {},
   "outputs": [
    {
     "name": "stdout",
     "output_type": "stream",
     "text": [
      "Random Forest performs better.\n"
     ]
    }
   ],
   "source": [
    "# Comparação dos modelos\n",
    "if lr_rmse < rf_rmse:\n",
    "    print(\"Linear Regression performs better.\")\n",
    "else:\n",
    "    print(\"Random Forest performs better.\")"
   ]
  },
  {
   "cell_type": "code",
   "execution_count": 12,
   "metadata": {},
   "outputs": [
    {
     "name": "stderr",
     "output_type": "stream",
     "text": [
      "[Stage 43:>                                                         (0 + 1) / 1]\r"
     ]
    },
    {
     "name": "stdout",
     "output_type": "stream",
     "text": [
      "+--------------------+--------------+------------------+\n",
      "|            features|salario_mensal|        prediction|\n",
      "+--------------------+--------------+------------------+\n",
      "|(1403,[0,1,2,28,5...|        781.63|2100.8623941186274|\n",
      "|(1403,[0,1,2,28,5...|       2428.46|2209.8372833936587|\n",
      "|(1403,[0,1,2,28,5...|         600.0|2100.8623941186274|\n",
      "|(1403,[0,1,2,28,5...|         897.0|2100.8623941186274|\n",
      "|(1403,[0,1,2,28,5...|        2057.0|2209.8372833936587|\n",
      "|(1403,[0,1,2,28,5...|         689.0|2100.8623941186274|\n",
      "|(1403,[0,1,2,28,5...|        1804.0|2100.8623941186274|\n",
      "|(1403,[0,1,2,28,5...|         977.6|2100.8623941186274|\n",
      "|(1403,[0,1,2,28,5...|        1657.0|2209.8372833936587|\n",
      "|(1403,[0,1,2,28,5...|         888.0|2100.8623941186274|\n",
      "|(1403,[0,1,2,28,5...|        917.59|2100.8623941186274|\n",
      "|(1403,[0,1,2,28,5...|        1044.0|2100.8623941186274|\n",
      "|(1403,[0,1,2,28,5...|        917.59|2100.8623941186274|\n",
      "|(1403,[0,1,2,28,5...|         826.5|2100.8623941186274|\n",
      "|(1403,[0,1,2,28,5...|        854.04|2100.8623941186274|\n",
      "|(1403,[0,1,2,28,5...|         930.0|2100.8623941186274|\n",
      "|(1403,[0,1,2,28,5...|        854.04|2100.8623941186274|\n",
      "|(1403,[0,1,2,28,5...|        854.04|2100.8623941186274|\n",
      "|(1403,[0,1,2,28,5...|       1359.81|2100.8623941186274|\n",
      "|(1403,[0,1,2,28,5...|        1026.0|2100.8623941186274|\n",
      "+--------------------+--------------+------------------+\n",
      "only showing top 20 rows\n",
      "\n"
     ]
    },
    {
     "name": "stderr",
     "output_type": "stream",
     "text": [
      "                                                                                \r"
     ]
    }
   ],
   "source": [
    "# Mostrando as predições do modelo Random Forest\n",
    "rf_predictions.show()"
   ]
  },
  {
   "cell_type": "code",
   "execution_count": 13,
   "metadata": {},
   "outputs": [
    {
     "name": "stderr",
     "output_type": "stream",
     "text": [
      "[Stage 44:>                                                         (0 + 1) / 1]\r"
     ]
    },
    {
     "name": "stdout",
     "output_type": "stream",
     "text": [
      "+--------------------+--------------+------------------+\n",
      "|            features|salario_mensal|        prediction|\n",
      "+--------------------+--------------+------------------+\n",
      "|(1403,[0,1,2,28,5...|        781.63|1512.1442888413585|\n",
      "|(1403,[0,1,2,28,5...|       2428.46|1890.2131616225333|\n",
      "|(1403,[0,1,2,28,5...|         600.0|1473.7055085233615|\n",
      "|(1403,[0,1,2,28,5...|         897.0|1607.2244802754312|\n",
      "|(1403,[0,1,2,28,5...|        2057.0|2114.8932003841446|\n",
      "|(1403,[0,1,2,28,5...|         689.0|1635.4630834371164|\n",
      "|(1403,[0,1,2,28,5...|        1804.0|1741.4417465142442|\n",
      "|(1403,[0,1,2,28,5...|         977.6|1663.7016865988016|\n",
      "|(1403,[0,1,2,28,5...|        1657.0| 2411.283949991839|\n",
      "|(1403,[0,1,2,28,5...|         888.0|1714.9624219295592|\n",
      "|(1403,[0,1,2,28,5...|        917.59|1714.9624219295592|\n",
      "|(1403,[0,1,2,28,5...|        1044.0|1735.5269810348873|\n",
      "|(1403,[0,1,2,28,5...|        917.59|1756.0915401402153|\n",
      "|(1403,[0,1,2,28,5...|         826.5|1776.6560992455434|\n",
      "|(1403,[0,1,2,28,5...|        854.04|1776.6560992455434|\n",
      "|(1403,[0,1,2,28,5...|         930.0|1776.6560992455434|\n",
      "|(1403,[0,1,2,28,5...|        854.04|1797.2206583508714|\n",
      "|(1403,[0,1,2,28,5...|        854.04|1838.3497765615275|\n",
      "|(1403,[0,1,2,28,5...|       1359.81|1925.5231591103275|\n",
      "|(1403,[0,1,2,28,5...|        1026.0|1946.0877182156555|\n",
      "+--------------------+--------------+------------------+\n",
      "only showing top 20 rows\n",
      "\n"
     ]
    },
    {
     "name": "stderr",
     "output_type": "stream",
     "text": [
      "                                                                                \r"
     ]
    }
   ],
   "source": [
    "lr_predictions.show()"
   ]
  }
 ],
 "metadata": {
  "kernelspec": {
   "display_name": "Python 3",
   "language": "python",
   "name": "python3"
  },
  "language_info": {
   "codemirror_mode": {
    "name": "ipython",
    "version": 3
   },
   "file_extension": ".py",
   "mimetype": "text/x-python",
   "name": "python",
   "nbconvert_exporter": "python",
   "pygments_lexer": "ipython3",
   "version": "3.11.7"
  }
 },
 "nbformat": 4,
 "nbformat_minor": 2
}
